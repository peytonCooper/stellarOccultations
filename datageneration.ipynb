{
  "cells": [
    {
      "cell_type": "markdown",
      "metadata": {
        "id": "view-in-github",
        "colab_type": "text"
      },
      "source": [
        "<a href=\"https://colab.research.google.com/github/peytonCooper/stellarOccultations/blob/main/datageneration.ipynb\" target=\"_parent\"><img src=\"https://colab.research.google.com/assets/colab-badge.svg\" alt=\"Open In Colab\"/></a>"
      ]
    },
    {
      "cell_type": "markdown",
      "metadata": {
        "id": "9C1vguanTNz6"
      },
      "source": [
        "# Data Generation Code Stellar Occultations v1\n"
      ]
    },
    {
      "cell_type": "code",
      "execution_count": null,
      "metadata": {
        "colab": {
          "base_uri": "https://localhost:8080/",
          "height": 71
        },
        "id": "a1lVFFGGTevL",
        "outputId": "1fb60175-7804-4bde-a458-de8f36736a69"
      },
      "outputs": [
        {
          "output_type": "execute_result",
          "data": {
            "text/plain": [
              "'\\n<Data Generation Script for Ground Based Imaging of Satellite Occultations: Machine Learning and Analysis>\\n\\n<The intent of this script is to generate data for a machine learning analysis on satellite occultations in geosynchronous orbit.>\\n\\n<Capt Peyton Cooper, USSF, MIT Phantom Cohort X>\\n\\n<Creation Date: 4/24/2024>\\n\\n<1.0>\\n'"
            ],
            "application/vnd.google.colaboratory.intrinsic+json": {
              "type": "string"
            }
          },
          "metadata": {},
          "execution_count": 34
        }
      ],
      "source": [
        "\"\"\"\n",
        "<Data Generation Script for Ground Based Imaging of Satellite Occultations: Machine Learning and Analysis>\n",
        "\n",
        "<The intent of this script is to generate data for a machine learning analysis on satellite occultations in geosynchronous orbit.>\n",
        "\n",
        "<Capt Peyton Cooper, USSF, MIT Phantom Cohort X>\n",
        "\n",
        "<Creation Date: 4/24/2024>\n",
        "\n",
        "<1.0>\n",
        "\"\"\"\n"
      ]
    },
    {
      "cell_type": "markdown",
      "metadata": {
        "id": "rsBv8vEYUXdn"
      },
      "source": [
        "##  1: Necessary Imports, Permissions, Parameters"
      ]
    },
    {
      "cell_type": "markdown",
      "metadata": {
        "id": "0MEFyesLWiCv"
      },
      "source": [
        "### 1.a: Install Skyfield, Astroqueary, simple libs"
      ]
    },
    {
      "cell_type": "code",
      "execution_count": null,
      "metadata": {
        "colab": {
          "base_uri": "https://localhost:8080/"
        },
        "id": "7wqTKlK6Tndn",
        "outputId": "0bbf28eb-6a42-4aea-cc43-edf97bc94afd"
      },
      "outputs": [
        {
          "output_type": "stream",
          "name": "stdout",
          "text": [
            "Collecting skyfield\n",
            "  Downloading skyfield-1.53-py3-none-any.whl.metadata (2.4 kB)\n",
            "Requirement already satisfied: certifi>=2017.4.17 in /usr/local/lib/python3.11/dist-packages (from skyfield) (2025.4.26)\n",
            "Collecting jplephem>=2.13 (from skyfield)\n",
            "  Downloading jplephem-2.22-py3-none-any.whl.metadata (22 kB)\n",
            "Requirement already satisfied: numpy in /usr/local/lib/python3.11/dist-packages (from skyfield) (2.0.2)\n",
            "Collecting sgp4>=2.13 (from skyfield)\n",
            "  Downloading sgp4-2.24-cp311-cp311-manylinux_2_5_x86_64.manylinux1_x86_64.manylinux_2_17_x86_64.manylinux2014_x86_64.whl.metadata (33 kB)\n",
            "Downloading skyfield-1.53-py3-none-any.whl (366 kB)\n",
            "\u001b[2K   \u001b[90m━━━━━━━━━━━━━━━━━━━━━━━━━━━━━━━━━━━━━━━━\u001b[0m \u001b[32m367.0/367.0 kB\u001b[0m \u001b[31m14.0 MB/s\u001b[0m eta \u001b[36m0:00:00\u001b[0m\n",
            "\u001b[?25hDownloading jplephem-2.22-py3-none-any.whl (47 kB)\n",
            "\u001b[2K   \u001b[90m━━━━━━━━━━━━━━━━━━━━━━━━━━━━━━━━━━━━━━━━\u001b[0m \u001b[32m47.2/47.2 kB\u001b[0m \u001b[31m3.5 MB/s\u001b[0m eta \u001b[36m0:00:00\u001b[0m\n",
            "\u001b[?25hDownloading sgp4-2.24-cp311-cp311-manylinux_2_5_x86_64.manylinux1_x86_64.manylinux_2_17_x86_64.manylinux2014_x86_64.whl (234 kB)\n",
            "\u001b[2K   \u001b[90m━━━━━━━━━━━━━━━━━━━━━━━━━━━━━━━━━━━━━━━━\u001b[0m \u001b[32m234.5/234.5 kB\u001b[0m \u001b[31m17.1 MB/s\u001b[0m eta \u001b[36m0:00:00\u001b[0m\n",
            "\u001b[?25hInstalling collected packages: sgp4, jplephem, skyfield\n",
            "Successfully installed jplephem-2.22 sgp4-2.24 skyfield-1.53\n",
            "Requirement already satisfied: pandas in /usr/local/lib/python3.11/dist-packages (2.2.2)\n",
            "Requirement already satisfied: numpy>=1.23.2 in /usr/local/lib/python3.11/dist-packages (from pandas) (2.0.2)\n",
            "Requirement already satisfied: python-dateutil>=2.8.2 in /usr/local/lib/python3.11/dist-packages (from pandas) (2.9.0.post0)\n",
            "Requirement already satisfied: pytz>=2020.1 in /usr/local/lib/python3.11/dist-packages (from pandas) (2025.2)\n",
            "Requirement already satisfied: tzdata>=2022.7 in /usr/local/lib/python3.11/dist-packages (from pandas) (2025.2)\n",
            "Requirement already satisfied: six>=1.5 in /usr/local/lib/python3.11/dist-packages (from python-dateutil>=2.8.2->pandas) (1.17.0)\n",
            "Collecting astroquery\n",
            "  Downloading astroquery-0.4.10-py3-none-any.whl.metadata (6.3 kB)\n",
            "Requirement already satisfied: numpy>=1.20 in /usr/local/lib/python3.11/dist-packages (from astroquery) (2.0.2)\n",
            "Requirement already satisfied: astropy>=5.0 in /usr/local/lib/python3.11/dist-packages (from astroquery) (7.1.0)\n",
            "Requirement already satisfied: requests>=2.19 in /usr/local/lib/python3.11/dist-packages (from astroquery) (2.32.3)\n",
            "Requirement already satisfied: beautifulsoup4>=4.8 in /usr/local/lib/python3.11/dist-packages (from astroquery) (4.13.4)\n",
            "Requirement already satisfied: html5lib>=0.999 in /usr/local/lib/python3.11/dist-packages (from astroquery) (1.1)\n",
            "Requirement already satisfied: keyring>=15.0 in /usr/local/lib/python3.11/dist-packages (from astroquery) (25.6.0)\n",
            "Collecting pyvo>=1.5 (from astroquery)\n",
            "  Downloading pyvo-1.7-py3-none-any.whl.metadata (4.7 kB)\n",
            "Requirement already satisfied: pyerfa>=2.0.1.1 in /usr/local/lib/python3.11/dist-packages (from astropy>=5.0->astroquery) (2.0.1.5)\n",
            "Requirement already satisfied: astropy-iers-data>=0.2025.4.28.0.37.27 in /usr/local/lib/python3.11/dist-packages (from astropy>=5.0->astroquery) (0.2025.6.2.0.38.23)\n",
            "Requirement already satisfied: PyYAML>=6.0.0 in /usr/local/lib/python3.11/dist-packages (from astropy>=5.0->astroquery) (6.0.2)\n",
            "Requirement already satisfied: packaging>=22.0.0 in /usr/local/lib/python3.11/dist-packages (from astropy>=5.0->astroquery) (24.2)\n",
            "Requirement already satisfied: soupsieve>1.2 in /usr/local/lib/python3.11/dist-packages (from beautifulsoup4>=4.8->astroquery) (2.7)\n",
            "Requirement already satisfied: typing-extensions>=4.0.0 in /usr/local/lib/python3.11/dist-packages (from beautifulsoup4>=4.8->astroquery) (4.14.0)\n",
            "Requirement already satisfied: six>=1.9 in /usr/local/lib/python3.11/dist-packages (from html5lib>=0.999->astroquery) (1.17.0)\n",
            "Requirement already satisfied: webencodings in /usr/local/lib/python3.11/dist-packages (from html5lib>=0.999->astroquery) (0.5.1)\n",
            "Requirement already satisfied: SecretStorage>=3.2 in /usr/local/lib/python3.11/dist-packages (from keyring>=15.0->astroquery) (3.3.3)\n",
            "Requirement already satisfied: jeepney>=0.4.2 in /usr/local/lib/python3.11/dist-packages (from keyring>=15.0->astroquery) (0.9.0)\n",
            "Requirement already satisfied: importlib_metadata>=4.11.4 in /usr/local/lib/python3.11/dist-packages (from keyring>=15.0->astroquery) (8.7.0)\n",
            "Requirement already satisfied: jaraco.classes in /usr/local/lib/python3.11/dist-packages (from keyring>=15.0->astroquery) (3.4.0)\n",
            "Requirement already satisfied: jaraco.functools in /usr/local/lib/python3.11/dist-packages (from keyring>=15.0->astroquery) (4.1.0)\n",
            "Requirement already satisfied: jaraco.context in /usr/local/lib/python3.11/dist-packages (from keyring>=15.0->astroquery) (6.0.1)\n",
            "Requirement already satisfied: charset-normalizer<4,>=2 in /usr/local/lib/python3.11/dist-packages (from requests>=2.19->astroquery) (3.4.2)\n",
            "Requirement already satisfied: idna<4,>=2.5 in /usr/local/lib/python3.11/dist-packages (from requests>=2.19->astroquery) (3.10)\n",
            "Requirement already satisfied: urllib3<3,>=1.21.1 in /usr/local/lib/python3.11/dist-packages (from requests>=2.19->astroquery) (2.4.0)\n",
            "Requirement already satisfied: certifi>=2017.4.17 in /usr/local/lib/python3.11/dist-packages (from requests>=2.19->astroquery) (2025.4.26)\n",
            "Requirement already satisfied: zipp>=3.20 in /usr/local/lib/python3.11/dist-packages (from importlib_metadata>=4.11.4->keyring>=15.0->astroquery) (3.22.0)\n",
            "Requirement already satisfied: cryptography>=2.0 in /usr/local/lib/python3.11/dist-packages (from SecretStorage>=3.2->keyring>=15.0->astroquery) (43.0.3)\n",
            "Requirement already satisfied: more-itertools in /usr/local/lib/python3.11/dist-packages (from jaraco.classes->keyring>=15.0->astroquery) (10.7.0)\n",
            "Requirement already satisfied: backports.tarfile in /usr/local/lib/python3.11/dist-packages (from jaraco.context->keyring>=15.0->astroquery) (1.2.0)\n",
            "Requirement already satisfied: cffi>=1.12 in /usr/local/lib/python3.11/dist-packages (from cryptography>=2.0->SecretStorage>=3.2->keyring>=15.0->astroquery) (1.17.1)\n",
            "Requirement already satisfied: pycparser in /usr/local/lib/python3.11/dist-packages (from cffi>=1.12->cryptography>=2.0->SecretStorage>=3.2->keyring>=15.0->astroquery) (2.22)\n",
            "Downloading astroquery-0.4.10-py3-none-any.whl (11.1 MB)\n",
            "\u001b[2K   \u001b[90m━━━━━━━━━━━━━━━━━━━━━━━━━━━━━━━━━━━━━━━━\u001b[0m \u001b[32m11.1/11.1 MB\u001b[0m \u001b[31m102.7 MB/s\u001b[0m eta \u001b[36m0:00:00\u001b[0m\n",
            "\u001b[?25hDownloading pyvo-1.7-py3-none-any.whl (1.1 MB)\n",
            "\u001b[2K   \u001b[90m━━━━━━━━━━━━━━━━━━━━━━━━━━━━━━━━━━━━━━━━\u001b[0m \u001b[32m1.1/1.1 MB\u001b[0m \u001b[31m51.3 MB/s\u001b[0m eta \u001b[36m0:00:00\u001b[0m\n",
            "\u001b[?25hInstalling collected packages: pyvo, astroquery\n",
            "Successfully installed astroquery-0.4.10 pyvo-1.7\n",
            "Mounted at /content/drive\n"
          ]
        }
      ],
      "source": [
        "!pip install skyfield\n",
        "!pip install pandas\n",
        "!pip install astroquery\n",
        "from astropy.coordinates import EarthLocation, SkyCoord\n",
        "import astropy.units as u\n",
        "from astroquery.gaia import Gaia\n",
        "import matplotlib.pyplot as plt\n",
        "import math\n",
        "\n",
        "from google.colab import drive\n",
        "drive.mount('/content/drive')"
      ]
    },
    {
      "cell_type": "code",
      "execution_count": null,
      "metadata": {
        "id": "aHczd3x_UsdT"
      },
      "outputs": [],
      "source": []
    },
    {
      "cell_type": "markdown",
      "metadata": {
        "id": "_BHrqavqWd5m"
      },
      "source": []
    },
    {
      "cell_type": "markdown",
      "metadata": {
        "id": "3kdFlLdMUw7c"
      },
      "source": [
        "## 2: Functions"
      ]
    },
    {
      "cell_type": "markdown",
      "metadata": {
        "id": "pynaH27KU2PG"
      },
      "source": [
        "### 2.a: Calculate Az El\n"
      ]
    },
    {
      "cell_type": "code",
      "execution_count": null,
      "metadata": {
        "id": "-Cv50MCJU1pZ"
      },
      "outputs": [],
      "source": [
        "import math\n",
        "\n",
        "def calculate_az_el(lat, long, elevation):\n",
        "    \"\"\"\n",
        "    Description:\n",
        "    Takes in a lat long of camera site on Earth and elevation above sea level,\n",
        "    generates the az el it needs to be at to point at GEO.\n",
        "\n",
        "    Parameters:\n",
        "    - lat (float): latitude of camera position on earth, in degrees\n",
        "    - long (float): longitude of camera position on earth, in degrees W\n",
        "    - elevation (float): elevation above sea level of camera position on earth, in meters\n",
        "\n",
        "    Returns:\n",
        "    - azimuth (float): deg, az to GEO obs\n",
        "    - elevation (float): deg, el to GEO obs\n",
        "    \"\"\"\n",
        "    # Constants\n",
        "    RADIUS_EARTH = 6371  # Radius of the Earth in kilometers\n",
        "    ALTITUDE_GEO = 35786  # Altitude of geosynchronous orbit in kilometers\n",
        "\n",
        "    # Convert elevation from meters to kilometers\n",
        "    elevation_km = elevation / 1000\n",
        "\n",
        "    # Convert latitude and longitude from degrees to radians\n",
        "    lat_rad = math.radians(lat)\n",
        "    long_rad = math.radians(long)\n",
        "\n",
        "    # Calculate the angle between the satellite's position and the equator\n",
        "    theta = math.pi / 2 - lat_rad\n",
        "\n",
        "    # Calculate the distance from the observer to the point directly below the satellite\n",
        "    d = math.sqrt((RADIUS_EARTH + elevation_km) ** 2 * math.cos(theta) ** 2 + (RADIUS_EARTH + elevation_km) ** 2 * math.sin(theta) ** 2)\n",
        "\n",
        "    # Calculate the elevation angle\n",
        "    elevation_angle = math.degrees(math.atan((ALTITUDE_GEO - elevation_km) / d))\n",
        "\n",
        "    # Calculate the azimuth angle\n",
        "    if long >= 0:\n",
        "        azimuth = math.degrees(math.atan(math.tan(long_rad) / math.sin(lat_rad)))\n",
        "    else:\n",
        "        azimuth = math.degrees(math.atan(math.tan(long_rad) / math.sin(lat_rad))) + 180\n",
        "\n",
        "    # Ensure azimuth is within [0, 360) range\n",
        "    azimuth = azimuth % 360\n",
        "\n",
        "    return azimuth, elevation_angle\n"
      ]
    },
    {
      "cell_type": "markdown",
      "metadata": {
        "id": "yso2aO18V_nF"
      },
      "source": [
        "### 2.b: Generate Batch Time - UNUSED"
      ]
    },
    {
      "cell_type": "code",
      "execution_count": null,
      "metadata": {
        "id": "NhhrKCLeXYoy"
      },
      "outputs": [],
      "source": [
        "def generate_batch_time():\n",
        "    \"\"\"\n",
        "    Description:\n",
        "    <Brief description of what the function does>\n",
        "\n",
        "    Parameters:\n",
        "    - lat (float): latitude of camera position on earth, in degrees\n",
        "    - long (float): longitude of camera position on earth, in degrees W\n",
        "\n",
        "    Returns:\n",
        "    - azimuth (float): deg, az to GEO obs\n",
        "    - elevation (float): deg, el to GEO obs\n",
        "    \"\"\"\n",
        "    return 0"
      ]
    },
    {
      "cell_type": "markdown",
      "metadata": {
        "id": "5JktOA4yawPB"
      },
      "source": [
        "###2.b.1: Generate RA and DEC"
      ]
    },
    {
      "cell_type": "code",
      "execution_count": null,
      "metadata": {
        "id": "S1sLe7T7awW6"
      },
      "outputs": [],
      "source": [
        "from astropy.coordinates import EarthLocation, AltAz, SkyCoord\n",
        "from astropy.time import Time\n",
        "import astropy.units as u\n",
        "\n",
        "def calculate_observation_parameters(latitude, longitude, altitude, epoch, fov_side_deg):\n",
        "    \"\"\"\n",
        "    Calculate observation parameters such as altitude, azimuth, local sidereal time, and FOV coordinates.\n",
        "\n",
        "    Parameters:\n",
        "    - latitude (float): Latitude of the observer in degrees.\n",
        "    - longitude (float): Longitude of the observer in degrees.\n",
        "    - altitude (float): Altitude of the observer in meters.\n",
        "    - epoch (datetime): Observation epoch.\n",
        "\n",
        "    Returns:\n",
        "    - altitude (astropy Quantity): Altitude of the observer.\n",
        "    - azimuth (astropy Quantity): Azimuth of the observer.\n",
        "    - fov_ra_deg (float): Right Ascension (RA) of the Field of View (FOV) in degrees.\n",
        "    - fov_dec_deg (float): Declination (Dec) of the Field of View (FOV) in degrees.\n",
        "    - fov_ra_min (float): Minimum Right Ascension (RA) of the FOV in degrees.\n",
        "    - fov_ra_max (float): Maximum Right Ascension (RA) of the FOV in degrees.\n",
        "    - fov_dec_min (float): Minimum Declination (Dec) of the FOV in degrees.\n",
        "    - fov_dec_max (float): Maximum Declination (Dec) of the FOV in degrees.\n",
        "    \"\"\"\n",
        "\n",
        "    # Convert altitude to astropy Quantity with units of meters\n",
        "    altitude_meters = altitude * u.m\n",
        "\n",
        "    # Define the EarthLocation for the observer\n",
        "    observer_location = EarthLocation.from_geodetic(lon=longitude*u.deg, lat=latitude*u.deg, height=altitude_meters)\n",
        "\n",
        "    # Convert EarthLocation to SkyCoord\n",
        "    observation_coordinates = SkyCoord(observer_location.lon, observer_location.lat, frame='icrs')\n",
        "\n",
        "    # Convert coordinates to AltAz frame\n",
        "    altaz_coordinates = observation_coordinates.transform_to(AltAz(obstime=epoch, location=observer_location))\n",
        "\n",
        "    # Extract Altitude (el) and Azimuth (az)\n",
        "    altitude = altaz_coordinates.alt\n",
        "    azimuth = altaz_coordinates.az\n",
        "\n",
        "    # Convert Altitude and Azimuth to degrees\n",
        "    altitude_deg = altitude.value\n",
        "    azimuth_deg = azimuth.value\n",
        "\n",
        "    # Calculate local sidereal time (LST) corresponding to the observation time\n",
        "    observation_time = Time(epoch)\n",
        "    lst = observation_time.sidereal_time('mean', longitude)\n",
        "\n",
        "    # Right ascension of the zenith (closest spot in geosynchronous orbit)\n",
        "    fov_ra = lst\n",
        "\n",
        "    # Convert RA to degrees\n",
        "    fov_ra_deg = (fov_ra.to(u.hourangle).value * 15)  # Convert from hours to degrees\n",
        "\n",
        "    # Declination of the zenith (same as observer's latitude)\n",
        "    fov_dec = latitude\n",
        "\n",
        "    # Define FOV size (crop area) in degrees\n",
        "    fov_width_deg = fov_side_deg  # Replace fov_side_deg with your actual FOV width\n",
        "    fov_height_deg = fov_side_deg  # Replace fov_side_deg with your actual FOV height\n",
        "\n",
        "    # Calculate FOV boundaries\n",
        "    fov_ra_min = fov_ra_deg - fov_width_deg\n",
        "    fov_ra_max = fov_ra_deg + fov_width_deg\n",
        "    fov_dec_min = fov_dec - fov_height_deg\n",
        "    fov_dec_max = fov_dec + fov_height_deg\n",
        "\n",
        "\n",
        "\n",
        "    return altitude, azimuth, fov_ra_deg, fov_dec, fov_ra_min, fov_ra_max, fov_dec_min, fov_dec_max\n"
      ]
    },
    {
      "cell_type": "markdown",
      "metadata": {
        "id": "JLKwFTTBXs9e"
      },
      "source": [
        "###2.c: Query Star Catalog - UNUSED"
      ]
    },
    {
      "cell_type": "code",
      "execution_count": null,
      "metadata": {
        "id": "gI5u-iV_Xw5l"
      },
      "outputs": [],
      "source": [
        "def query_stars():\n",
        "    \"\"\"\n",
        "    Description:\n",
        "    <Brief description of what the function does>\n",
        "\n",
        "    Parameters:\n",
        "    - lat (float): latitude of camera position on earth, in degrees\n",
        "    - long (float): longitude of camera position on earth, in degrees W\n",
        "\n",
        "    Returns:\n",
        "    - azimuth (float): deg, az to GEO obs\n",
        "    - elevation (float): deg, el to GEO obs\n",
        "    \"\"\"\n",
        "    return 0"
      ]
    },
    {
      "cell_type": "markdown",
      "metadata": {
        "id": "lXOk_HwdYggo"
      },
      "source": [
        "###2.d: Plot FOV Coordinates"
      ]
    },
    {
      "cell_type": "code",
      "execution_count": null,
      "metadata": {
        "id": "Gtxty2d_YgsH"
      },
      "outputs": [],
      "source": [
        "import matplotlib.pyplot as plt\n",
        "\n",
        "def plot_fov_coordinates(fov_ra_degrees, fov_dec_degrees):\n",
        "    \"\"\"\n",
        "    Plots the field of view (FOV) coordinates.\n",
        "\n",
        "    Parameters:\n",
        "    - fov_ra_degrees (list or array): List or array of right ascension values in degrees.\n",
        "    - fov_dec_degrees (list or array): List or array of declination values in degrees.\n",
        "\n",
        "    Returns:\n",
        "    None\n",
        "\n",
        "    Example:\n",
        "    plot_fov_coordinates([10, 20, 30], [45, 55, 65])\n",
        "    \"\"\"\n",
        "    # Plot FOV coordinates\n",
        "    plt.figure(figsize=(8, 6))\n",
        "    plt.plot(fov_ra_degrees, fov_dec_degrees, 'ro', label='FOV Center')\n",
        "    plt.xlabel('Right Ascension (degrees)')\n",
        "    plt.ylabel('Declination (degrees)')\n",
        "    plt.title('Field of View (FOV) Pointing at Closest Spot to GEO, Obs from Maui')\n",
        "    plt.grid(True)\n",
        "    plt.legend()\n",
        "    plt.show()\n"
      ]
    },
    {
      "cell_type": "markdown",
      "metadata": {
        "id": "1CSr30kTZQtq"
      },
      "source": [
        "###2.e: Plot FOV Pixels in FOV"
      ]
    },
    {
      "cell_type": "code",
      "execution_count": null,
      "metadata": {
        "id": "DhA8lZXXZQzJ"
      },
      "outputs": [],
      "source": [
        "import matplotlib.pyplot as plt\n",
        "\n",
        "def plot_fov_pixels(crop_size_degrees):\n",
        "    \"\"\"\n",
        "    Plots the field of view (FOV) coordinates along with camera crop size.\n",
        "\n",
        "    Parameters:\n",
        "\n",
        "    - crop_size_degrees (float): Size of the camera crop in degrees.\n",
        "\n",
        "    Returns:\n",
        "    Prints out a grid of pixels, just for show\n",
        "\n",
        "    Example:\n",
        "    plot_fov_with_crop([128,128])\n",
        "    \"\"\"\n",
        "    # Generate grid of pixel coordinates within FOV\n",
        "    fov_x = np.linspace(0, crop_size[0] - 1, crop_size[0])\n",
        "    fov_y = np.linspace(0, crop_size[1] - 1, crop_size[1])\n",
        "    fov_x_grid, fov_y_grid = np.meshgrid(fov_x, fov_y)\n",
        "\n",
        "    # Plot FOV pixels\n",
        "    plt.figure(figsize=(8, 6))\n",
        "    plt.scatter(fov_x_grid, fov_y_grid, s=1, color='black')\n",
        "    plt.xlabel('FOV X')\n",
        "    plt.ylabel('FOV Y')\n",
        "    plt.title('Field of View (FOV) Pointing at Closest Spot to GEO, Obs from Maui')\n",
        "    # Invert y-axis to match typical image orientation\n",
        "    plt.grid(True)\n",
        "    plt.show()\n",
        "\n"
      ]
    },
    {
      "cell_type": "markdown",
      "metadata": {
        "id": "Adrf7bgTUXxp"
      },
      "source": [
        "###2.f: Plot Stars in FOV"
      ]
    },
    {
      "cell_type": "code",
      "execution_count": null,
      "metadata": {
        "id": "JA9sFfjxUX5P"
      },
      "outputs": [],
      "source": [
        "import matplotlib.pyplot as plt\n",
        "\n",
        "def plot_stars_in_fov(stars_ra, stars_dec, stars_vmag, fov_ra_min, fov_ra_max, fov_dec_min, fov_dec_max):\n",
        "    \"\"\"\n",
        "    Plot stars within a specified field of view along with the field of view box.\n",
        "\n",
        "    Parameters:\n",
        "        stars_ra (array-like): Array of Right Ascension (RA) coordinates of stars in degrees.\n",
        "        stars_dec (array-like): Array of Declination (Dec) coordinates of stars in degrees.\n",
        "        stars_vmag (array-like): Array of V magnitudes of stars.\n",
        "        fov_ra_min (float): Minimum Right Ascension (RA) of the field of view box in degrees.\n",
        "        fov_ra_max (float): Maximum Right Ascension (RA) of the field of view box in degrees.\n",
        "        fov_dec_min (float): Minimum Declination (Dec) of the field of view box in degrees.\n",
        "        fov_dec_max (float): Maximum Declination (Dec) of the field of view box in degrees.\n",
        "    \"\"\"\n",
        "\n",
        "    # Plot the stars\n",
        "    plt.figure(figsize=(10, 6))\n",
        "    plt.scatter(stars_ra, stars_dec, c=stars_vmag, cmap='viridis', marker='o', alpha=0.5)\n",
        "\n",
        "    # Plot FOV box\n",
        "    plt.plot([fov_ra_min, fov_ra_max, fov_ra_max, fov_ra_min, fov_ra_min],\n",
        "             [fov_dec_min, fov_dec_min, fov_dec_max, fov_dec_max, fov_dec_min],\n",
        "             color='red', linestyle='--', linewidth=2, label='FOV Box')\n",
        "\n",
        "    # Add colorbar and labels\n",
        "    plt.colorbar(label='V Magnitude')\n",
        "    plt.xlabel('Right Ascension (deg)')\n",
        "    plt.ylabel('Declination (deg)')\n",
        "    plt.title('Bright (Visible) Stars in Field of View')\n",
        "\n",
        "    # Show plot\n",
        "    plt.grid(True)\n",
        "    plt.gca().invert_xaxis()  # Invert RA axis to match typical sky chart orientation\n",
        "    plt.gca().invert_yaxis()  # Invert Dec axis to match typical sky chart orientation\n",
        "    plt.show()\n",
        "\n",
        "# Example usage:\n",
        "# plot_stars_in_fov(stars_ra, stars_dec, stars_vmag, fov_ra_min, fov_ra_max, fov_dec_min, fov_dec_max)\n"
      ]
    },
    {
      "cell_type": "markdown",
      "metadata": {
        "id": "Pr1oKPmOUYNy"
      },
      "source": [
        "###2.g: add in variable noise to query"
      ]
    },
    {
      "cell_type": "code",
      "execution_count": null,
      "metadata": {
        "id": "tKMP1XWgUYdg"
      },
      "outputs": [],
      "source": [
        "import numpy as np\n",
        "import matplotlib.pyplot as plt\n",
        "\n",
        "# Function to calculate sigma_mag\n",
        "def calculate_sigma_mag(SNR):\n",
        "    return 1.0857 / SNR\n",
        "\n",
        "# Function to generate a random value on the Gaussian curve given SNR\n",
        "def generate_random_value(SNR):\n",
        "    mean = 0\n",
        "    sigma_mag = calculate_sigma_mag(SNR)\n",
        "    return np.random.normal(loc=mean, scale=sigma_mag)\n",
        "\n",
        "\n",
        "def add_observed_magnitude(snr, array):\n",
        "    observed_magnitude = []\n",
        "    for val in array:\n",
        "        random_uncertainty = generate_random_value(snr)\n",
        "        observed_magnitude.append(random_uncertainty + val)\n",
        "    return observed_magnitude\n"
      ]
    },
    {
      "cell_type": "markdown",
      "metadata": {
        "id": "esG9lIVkavNI"
      },
      "source": [
        "###2.g: Generate Stars"
      ]
    },
    {
      "cell_type": "code",
      "execution_count": null,
      "metadata": {
        "id": "74S5lxBbavgV"
      },
      "outputs": [],
      "source": [
        "from astropy.coordinates import SkyCoord\n",
        "import astropy.units as u\n",
        "from astropy.time import Time\n",
        "\n",
        "def query_gaia_fov_at_epoch(fov_ra_min, fov_dec_min, fov_ra_max, fov_dec_max, epoch, vmag_cutoff=11):\n",
        "    \"\"\"\n",
        "    Query Gaia for stars brighter than the V magnitude cutoff within a specified field of view (FOV) at a specific epoch.\n",
        "\n",
        "    Parameters:\n",
        "    - fov_ra_min (float): Minimum right ascension (RA) of the FOV in degrees.\n",
        "    - fov_dec_min (float): Minimum declination (Dec) of the FOV in degrees.\n",
        "    - fov_ra_max (float): Maximum right ascension (RA) of the FOV in degrees.\n",
        "    - fov_dec_max (float): Maximum declination (Dec) of the FOV in degrees.\n",
        "    - epoch (str): Desired epoch for the query in ISO format (e.g., '2024-04-24').\n",
        "    - vmag_cutoff (float, optional): V magnitude cutoff for selecting stars. Default is 11.\n",
        "\n",
        "    Returns:\n",
        "    - astropy.table.Table: Table containing the queried data with columns:\n",
        "        - 'Source ID': Gaia source ID.\n",
        "        - 'RA (deg) at Epoch': Right ascension (RA) in degrees at the specified epoch.\n",
        "        - 'Dec (deg) at Epoch': Declination (Dec) in degrees at the specified epoch.\n",
        "        - 'V Magnitude': V magnitude of the star.\n",
        "\n",
        "    Example:\n",
        "    >>> query_gaia_fov_at_epoch(10, -10, 20, 10, '2024-04-24')\n",
        "    \"\"\"\n",
        "\n",
        "    # Query Gaia for stars brighter than the V magnitude cutoff in the FOV\n",
        "    query_str_bright = \"\"\"\n",
        "    SELECT source_id, ra, dec, phot_g_mean_mag\n",
        "    FROM gaiadr2.gaia_source\n",
        "    WHERE CONTAINS(POINT('ICRS', ra, dec), POLYGON('ICRS', {}, {}, {}, {}, {}, {}, {}, {})) = 1\n",
        "    AND phot_g_mean_mag < {};\n",
        "    \"\"\".format(\n",
        "    fov_ra_min, fov_dec_min,\n",
        "    fov_ra_max, fov_dec_min,\n",
        "    fov_ra_max, fov_dec_max,\n",
        "    fov_ra_min, fov_dec_max,\n",
        "    vmag_cutoff\n",
        "    )\n",
        "\n",
        "    job_bright = Gaia.launch_job(query_str_bright)\n",
        "    results_bright = job_bright.get_results()\n",
        "\n",
        "    from astropy.table import Table\n",
        "\n",
        "    # Create an empty table\n",
        "    table_data = Table()\n",
        "\n",
        "    # Add columns to the table\n",
        "    table_data['Source ID'] = results_bright['source_id']\n",
        "    table_data['RA (deg)'] = results_bright['ra']\n",
        "    table_data['Dec (deg)'] = results_bright['dec']\n",
        "    table_data['V Magnitude'] = results_bright['phot_g_mean_mag']\n",
        "\n",
        "    return table_data\n"
      ]
    },
    {
      "cell_type": "markdown",
      "metadata": {
        "id": "HGh-MWHMNPsj"
      },
      "source": [
        "###2.h: Print the table"
      ]
    },
    {
      "cell_type": "code",
      "execution_count": null,
      "metadata": {
        "id": "wK_ox5w4NOn0"
      },
      "outputs": [],
      "source": [
        "from tabulate import tabulate\n",
        "\n",
        "def print_2d_array(array, headers=None):\n",
        "    print(tabulate(array, headers=headers, tablefmt=\"grid\"))\n"
      ]
    },
    {
      "cell_type": "markdown",
      "metadata": {
        "id": "DfjXuetsRj60"
      },
      "source": [
        "### 2.i: Calculate Photon Count"
      ]
    },
    {
      "cell_type": "code",
      "execution_count": null,
      "metadata": {
        "id": "6tVUDIFFRkJ2"
      },
      "outputs": [],
      "source": [
        "\"\"\"\n",
        "    Plot stars within a specified field of view along with the field of view box.\n",
        "\n",
        "    Parameters:\n",
        "        stars_ra (array-like): Array of Right Ascension (RA) coordinates of stars in degrees.\n",
        "        stars_dec (array-like): Array of Declination (Dec) coordinates of stars in degrees.\n",
        "        stars_vmag (array-like): Array of V magnitudes of stars.\n",
        "        fov_ra_min (float): Minimum Right Ascension (RA) of the field of view box in degrees.\n",
        "        fov_ra_max (float): Maximum Right Ascension (RA) of the field of view box in degrees.\n",
        "        fov_dec_min (float): Minimum Declination (Dec) of the field of view box in degrees.\n",
        "        fov_dec_max (float): Maximum Declination (Dec) of the field of view box in degrees.\n",
        "    \"\"\"\n",
        "\n",
        "def calculate_photons_detected(magnitude, telescope_diameter, filter_bandpass, efficiency, final_bright_stars):\n",
        "    # Constants\n",
        "    #print(magnitude)\n",
        "    F0 = 3.61e-11 # Flux of a V=0 star in W m^-2 nm^-1 (http://www.vikdhillon.staff.shef.ac.uk/teaching/phy217/instruments/phy217_inst_photsys.html#table1) spectral flux\n",
        "    wavelength = 550 * 1e-9 # Effective wavelength of V band in nm\n",
        "    h = 6.626e-34  # Planck's constant in J s\n",
        "    c = 3e8  # Speed of light in m/s\n",
        "\n",
        "    # Calculate flux from the star\n",
        "    F1 = F0 * (10 ** ((magnitude - 0) / -2.5))\n",
        "    #print(\"F1: \", F1)\n",
        "    # Calculate number of photons per second per square meter\n",
        "    N1 = F1 * wavelength / (h * c)\n",
        "    #print(\"N1: \", N1)\n",
        "    # Calculate total number of photons detected per second\n",
        "    photons_detected_per_second = N1 * np.pi * (telescope_diameter / 2)**2 * filter_bandpass * efficiency\n",
        "    #print(photons_detected_per_second)\n",
        "    return photons_detected_per_second"
      ]
    },
    {
      "cell_type": "markdown",
      "metadata": {
        "id": "OBpbIB4fSWy8"
      },
      "source": [
        "### 2.j: Calculate SKy Photons"
      ]
    },
    {
      "cell_type": "code",
      "execution_count": null,
      "metadata": {
        "id": "Yc8BQlN5SV8t"
      },
      "outputs": [],
      "source": [
        "\"\"\"\n",
        "    Calculate the number of sky background photons detected per second in an extraction aperture. NOTE* These constants come mostly from the camera I am using, found on fact sheet for Andor EMECC\n",
        "\n",
        "    Parameters:\n",
        "    ----------\n",
        "    sky_brightness_mag_per_arcsec2 : float\n",
        "        Sky brightness in magnitudes per square arcsecond.\n",
        "    telescope_diameter_m : float\n",
        "        Diameter of the telescope aperture in meters.\n",
        "    filter_bandpass_nm : float\n",
        "        Width of the filter bandpass in nanometers.\n",
        "    system_efficiency : float\n",
        "        Total system efficiency (includes optics, detector QE, etc.), from 0 to 1.\n",
        "    aperture_radius_arcsec : float\n",
        "        Radius of the circular photometric aperture, in arcseconds.\n",
        "\n",
        "    Returns:\n",
        "    -------\n",
        "    photons_detected_per_second : float\n",
        "        Estimated number of sky background photons detected per second within the aperture.\n",
        "    \"\"\"\n",
        "def calculate_sky_photons_per_second(sky_brightness, telescope_diameter, filter_bandpass, efficiency, aperture_radius):\n",
        "    # Convert sky brightness from magnitudes per square arcsecond to W m^-2 nm^-1 arcsecond^-2\n",
        "    F0 = 3.61e-11 # Flux of a V=0 star in W m^-2 nm^-1 (http://www.vikdhillon.staff.shef.ac.uk/teaching/phy217/instruments/phy217_inst_photsys.html#table1)\n",
        "    wavelength = 550  # Effective wavelength of V band in nm\n",
        "    h = 6.626e-34  # Planck's constant in J s\n",
        "    c = 3e8  # Speed of light in m/s\n",
        "    F1 = F0 * (10 ** ((sky_brightness - 0) / -2.5))\n",
        "    #print(\"F1: \", F1)\n",
        "    # Calculate number of photons s^-1 m^-2 nm^-1 arcsecond^-2\n",
        "    N1 = F1 * (550e-9) / (h * c)  # Number of photons s^-1 m^-2 nm^-1 arcsecond^-2\n",
        "    #print(\"N1 : \", N1)\n",
        "    # Calculate total number of photons per second from the sky detected in the extraction aperture\n",
        "    photons_per_second = N1 * (math.pi * (aperture_radius**2)) * (math.pi*(telescope_diameter / 2)**2) * filter_bandpass * efficiency\n",
        "\n",
        "    return photons_per_second\n"
      ]
    },
    {
      "cell_type": "markdown",
      "metadata": {
        "id": "1OxDoa0uWScj"
      },
      "source": [
        "###2.k: Filter by Star and Print, plot star observation\n"
      ]
    },
    {
      "cell_type": "code",
      "execution_count": null,
      "metadata": {
        "id": "JyBMhoozWSjh"
      },
      "outputs": [],
      "source": [
        "import matplotlib.pyplot as plt\n",
        "import numpy as np\n",
        "from scipy.stats import linregress\n",
        "\n",
        "def plot_star_observation(final_bright_stars, star_id, start_epoch):\n",
        "    # Filter the final_bright_stars table based on the target_source_id\n",
        "    target_stars = final_bright_stars[final_bright_stars['Source ID'] == star_id]\n",
        "\n",
        "    # Extract epoch, observed magnitude, and count data for the target source ID\n",
        "    epochs_target = target_stars['Epoch']\n",
        "    observed_magnitudes_target = target_stars['Observed Magnitude']\n",
        "    counts_target = target_stars['count']  # Assuming 'count' is the variable name\n",
        "    truth_value = target_stars['truth']\n",
        "\n",
        "    # Convert epoch to milliseconds\n",
        "    start_time_ms = (start_epoch - start_epoch).total_seconds() * 1000  # Convert start_epoch to milliseconds\n",
        "    epochs_ms = [(epoch - start_epoch).total_seconds() * 1000 for epoch in epochs_target]\n",
        "\n",
        "    # Calculate mean and standard deviation for observed magnitudes and counts\n",
        "    mean_observed_mag = np.mean(observed_magnitudes_target)\n",
        "    std_observed_mag = np.std(observed_magnitudes_target)\n",
        "    mean_count = np.mean(counts_target)\n",
        "    std_count = np.std(counts_target)\n",
        "\n",
        "    # Plot observed magnitude vs time for the target source ID\n",
        "    plt.figure(figsize=(12, 6))\n",
        "\n",
        "    # Subplot for observed magnitude\n",
        "    plt.subplot(1, 2, 1)\n",
        "\n",
        "    # Plot all data points\n",
        "    plt.plot(epochs_ms, observed_magnitudes_target, marker='o', linestyle='', color='blue', alpha=0.5, label='Observed Magnitude (No Occultation)')\n",
        "\n",
        "    # Plot data points with truth value == 1 in red\n",
        "    # plt.plot([epoch for truth, epoch in zip(truth_value, epochs_ms) if truth == 1],\n",
        "    #          [count for truth, count in zip(truth_value, observed_magnitudes_target) if truth == 1],\n",
        "    #          marker='o', linestyle='', color='red', alpha=0.5, label='Occultation Obs')\n",
        "\n",
        "    # Plot mean, standard deviation, and line of best fit\n",
        "    plt.axhline(y=mean_observed_mag, color='red', linestyle='--', label='Gaia Vmag Baseline for Star ID')\n",
        "    plt.axhline(y=mean_observed_mag + std_observed_mag, color='green', linestyle='--', label='+1 Stdev')\n",
        "    plt.axhline(y=mean_observed_mag - std_observed_mag, color='green', linestyle='--', label='-1 Stdev')\n",
        "    slope_obs, intercept_obs, _, _, _ = linregress(epochs_ms, observed_magnitudes_target)\n",
        "    #plt.plot(epochs_ms, slope_obs * np.array(epochs_ms) + intercept_obs, color='black', label='Line of Best Fit')\n",
        "\n",
        "    plt.xlabel('Epoch (ms)')\n",
        "    plt.ylabel('Observed Magnitude (Noise Injected)')\n",
        "    plt.title('Noisy Observed Magnitude vs Time for Star ID: {}'.format(star_id))\n",
        "    plt.legend()\n",
        "    plt.grid(True)\n",
        "\n",
        "    # Subplot for count\n",
        "    plt.subplot(1, 2, 2)\n",
        "\n",
        "    # Plot all data points\n",
        "    plt.plot(epochs_ms, counts_target, marker='o', linestyle='', color='green', alpha=0.5, label='Count')\n",
        "\n",
        "    # Plot data points with truth value == 1 in red\n",
        "    #plt.plot([epoch for truth, epoch in zip(truth_value, epochs_ms) if truth == 1],\n",
        "             #[count for truth, count in zip(truth_value, counts_target) if truth == 1],\n",
        "            # marker='o', linestyle='', color='red', alpha=0.5, label='Occultation Obs')\n",
        "\n",
        "    # Plot mean, standard deviation, and line of best fit\n",
        "    plt.axhline(y=mean_count, color='red', linestyle='--', label='Mean Count')\n",
        "    plt.axhline(y=mean_count + std_count, color='blue', linestyle='--', label='+1 Stdev')\n",
        "    plt.axhline(y=mean_count - std_count, color='blue', linestyle='--', label='-1 Stdev')\n",
        "    slope_count, intercept_count, _, _, _ = linregress(epochs_ms, counts_target)\n",
        "    #plt.plot(epochs_ms, slope_count * np.array(epochs_ms) + intercept_count, color='black', label='Line of Best Fit')\n",
        "\n",
        "    plt.xlabel('Epoch (ms)')\n",
        "    plt.ylabel('Photon Count')\n",
        "    plt.title('Photon Count vs Time for Star ID: {}'.format(star_id))\n",
        "    plt.legend()\n",
        "    plt.grid(True)\n",
        "\n",
        "    # Adjust layout\n",
        "    plt.tight_layout()\n",
        "\n",
        "    # Show plot\n",
        "    plt.show()\n",
        "\n",
        "    # Filter the final_bright_stars table based on the target_source_id\n",
        "    target_stars = final_bright_stars[final_bright_stars['Source ID'] == star_id]\n",
        "\n",
        "    # Print the attributes of the target stars\n",
        "    print(\"Attributes of stars with Source ID:\", star_id)\n",
        "    print(target_stars)\n",
        "\n",
        "\n"
      ]
    },
    {
      "cell_type": "code",
      "source": [],
      "metadata": {
        "id": "-RvWdDjXm1Lf"
      },
      "execution_count": null,
      "outputs": []
    },
    {
      "cell_type": "markdown",
      "metadata": {
        "id": "yUgiHfVPSWHe"
      },
      "source": [
        "### 2.l: Add noise to count\n",
        "\n",
        "\n"
      ]
    },
    {
      "cell_type": "code",
      "execution_count": null,
      "metadata": {
        "id": "qnlXYkCfNi1e"
      },
      "outputs": [],
      "source": [
        "import numpy as np\n",
        "import matplotlib.pyplot as plt\n",
        "\n",
        "\n",
        "# Function to generate a random value on the Gaussian curve given SNR\n",
        "def generate_random_value_noise(noise):\n",
        "    mean = 0\n",
        "    sigma_mag = noise\n",
        "    return np.random.normal(loc=mean, scale=sigma_mag)\n",
        "\n",
        "\n",
        "def add_noise_to_count(noise):\n",
        "  random_uncertainty = generate_random_value_noise(noise)\n",
        "  return random_uncertainty\n"
      ]
    },
    {
      "cell_type": "markdown",
      "metadata": {
        "id": "xm_xFHzKd-h_"
      },
      "source": [
        "###2.m: calculate satellite params\n",
        "velocity, crossing time, and angle of rso"
      ]
    },
    {
      "cell_type": "code",
      "execution_count": null,
      "metadata": {
        "id": "Xf88pf_pd-ns"
      },
      "outputs": [],
      "source": [
        "def calculate_satellite_params(r,rso):\n",
        "  G=6.674e-11 #Nm2/kg2\n",
        "  M=5.976e24 #kg\n",
        "  rearth=6378e3 #m\n",
        "  #tangential velocity overhead\n",
        "  velocity=math.sqrt((G*M)/r) #m/s\n",
        "  #print(\"velocity: \", velocity, \"m/s\")\n",
        "  #print(\"velocity: \", velocity/1000, \"km/s\")\n",
        "\n",
        "  #satellite occultation disk angular diameter, theta rso\n",
        "  thetaRSO=(rso/(r-rearth)) #GEO distance from observer\n",
        "  #print(\"ThetaRSO: \", thetaRSO, \"rads\")  #This is the instantaneous fractional area blocked by the satellite\n",
        "  thetaRSO=thetaRSO*206264.8062470\n",
        "  #print(\"ThetaRSO: \", thetaRSO, \"arcsec\")\n",
        "\n",
        "  #crossing time\n",
        "  ts=rso/velocity\n",
        "  #print(\"crossing time: \", ts , \"seconds\")\n",
        "  #print(\"crossing time: \", ts*1000 , \"mseconds\")\n",
        "  return(velocity,thetaRSO,ts)\n"
      ]
    },
    {
      "cell_type": "markdown",
      "metadata": {
        "id": "xm9d0bGx2gdh"
      },
      "source": [
        "###2.n: Save data to Excel file named epoch"
      ]
    },
    {
      "cell_type": "code",
      "execution_count": null,
      "metadata": {
        "id": "2jheNVA62gqd"
      },
      "outputs": [],
      "source": [
        "from datetime import datetime\n",
        "import pandas as pd\n",
        "\n",
        "def save_data_to_excel(table_data, start_epoch, file_path_template):\n",
        "    # Convert astropy table to pandas DataFrame\n",
        "    df = table_data.to_pandas()\n",
        "\n",
        "    # Convert start_epoch to a string\n",
        "    start_epoch_str = start_epoch.strftime(\"%Y-%m-%d_%H-%M-%S\")\n",
        "\n",
        "    # Generate the final file path by inserting start_epoch string into the template\n",
        "    excel_file_path = file_path_template.format(start_epoch_str)\n",
        "\n",
        "    # Write DataFrame to Excel\n",
        "    df.to_excel(excel_file_path, index=False)  # Set index=False to exclude row numbers in Excel\n",
        "\n",
        "\n"
      ]
    },
    {
      "cell_type": "markdown",
      "source": [
        "###2.o: Plot Photon Histogram Counts"
      ],
      "metadata": {
        "id": "9U1FimMxhbTg"
      }
    },
    {
      "cell_type": "code",
      "source": [
        "def plot_counts_histogram(final_bright_stars, star_id):\n",
        "    # Filter the final_bright_stars table based on the target_source_id\n",
        "    target_stars = final_bright_stars[final_bright_stars['Source ID'] == star_id]\n",
        "\n",
        "    # Extract counts data and truth values for the target source ID\n",
        "    counts_target = target_stars['count']\n",
        "    truth_value = target_stars['truth']\n",
        "    vmag_true = target_stars['V Magnitude']\n",
        "    print(\"vmag true:\", vmag_true)\n",
        "\n",
        "    mean_count = calculate_photons_detected(vmag_true, aperture_radius, filter_bandpass, efficiency, star_id)\n",
        "    mean_count = mean_count[0] * 0.005\n",
        "    print(\"mean count\", mean_count)\n",
        "    std_count = np.std(counts_target)\n",
        "\n",
        "    # Separate the counts for occultation and non-occultation\n",
        "    counts_occultation = counts_target[truth_value == 1]\n",
        "    counts_non_occultation = counts_target[truth_value == 0]\n",
        "\n",
        "    # Plot histogram of photon count\n",
        "    plt.figure(figsize=(10, 6))\n",
        "\n",
        "    # Plot non-occultation counts\n",
        "    plt.hist(counts_non_occultation, bins=30, color='blue', alpha=0.5, label='Photon Count (Non-Occultation)')\n",
        "\n",
        "    # Overlay occultation counts\n",
        "    #plt.hist(counts_occultation, bins=30, color='red', alpha=0.9, label='Photon Count (Occultation)')\n",
        "\n",
        "    # Plot mean and standard deviations\n",
        "    plt.axvline(mean_count, color='orange', linestyle='--', label='Photon Count of Gaia Baseline Entry')\n",
        "    plt.axvline(mean_count + std_count, color='green', linestyle='--', label='+1 Stdev')\n",
        "    plt.axvline(mean_count - std_count, color='green', linestyle='--', label='-1 Stdev')\n",
        "    plt.axvline(mean_count + 2 * std_count, color='purple', linestyle='--', label='+2 Stdev')\n",
        "    plt.axvline(mean_count - 2 * std_count, color='purple', linestyle='--', label='-2 Stdev')\n",
        "\n",
        "    plt.xlabel('Photon Count')\n",
        "    plt.ylabel('Frequency')\n",
        "    plt.title('Histogram of Noise Injected Photon Counts for Star ID: {}'.format(star_id))\n",
        "    plt.legend()\n",
        "    plt.grid(True)\n",
        "\n",
        "    # Show plot\n",
        "    plt.show()"
      ],
      "metadata": {
        "id": "N6M0vdxRhbYe"
      },
      "execution_count": null,
      "outputs": []
    },
    {
      "cell_type": "markdown",
      "source": [
        "###2.p: Plot Histogram Observed Magnitude"
      ],
      "metadata": {
        "id": "14F-RysuVTpz"
      }
    },
    {
      "cell_type": "code",
      "source": [
        "\n",
        "def plot_obs_histogram(final_bright_stars, star_id):\n",
        "    # Filter the final_bright_stars table based on the target_source_id\n",
        "    target_stars = final_bright_stars[final_bright_stars['Source ID'] == star_id]\n",
        "\n",
        "    # Extract counts data and truth values for the target source ID\n",
        "    obs_target = target_stars['Observed Magnitude']\n",
        "    truth_value = target_stars['truth']\n",
        "    vmag_true = target_stars['V Magnitude']\n",
        "    print(\"vmag true:\", vmag_true)\n",
        "\n",
        "    mean_count = vmag_true[0]\n",
        "    print(\"mean count\", mean_count)\n",
        "    std_count = np.std(obs_target)\n",
        "\n",
        "    # Separate the counts for occultation and non-occultation\n",
        "    counts_occultation = obs_target[truth_value == 1]\n",
        "    counts_non_occultation = obs_target[truth_value == 0]\n",
        "\n",
        "    # Plot histogram of photon count\n",
        "    plt.figure(figsize=(10, 6))\n",
        "\n",
        "    # Plot non-occultation counts\n",
        "    plt.hist(counts_non_occultation, bins=30, color='blue', alpha=0.7, label='Observed Magnitude (Non-Occultation)')\n",
        "\n",
        "    # Overlay occultation counts\n",
        "    plt.hist(counts_occultation, bins=30, color='red', alpha=0.7, label='Observed Magnitude (Occultation)')\n",
        "\n",
        "    # Plot mean and standard deviations\n",
        "    plt.axvline(mean_count, color='orange', linestyle='--', label='Count of Gaia Visual Magnitude')\n",
        "    plt.axvline(mean_count + std_count, color='green', linestyle='--', label='+1 Stdev')\n",
        "    plt.axvline(mean_count - std_count, color='green', linestyle='--', label='-1 Stdev')\n",
        "    plt.axvline(mean_count + 2 * std_count, color='purple', linestyle='--', label='+2 Stdev')\n",
        "    plt.axvline(mean_count - 2 * std_count, color='purple', linestyle='--', label='-2 Stdev')\n",
        "    plt.xlim(left=min(obs_target), right=max(obs_target))\n",
        "\n",
        "    plt.xlabel('Observed Noisy Vmag')\n",
        "    plt.ylabel('Frequency')\n",
        "    plt.title('Histogram of Noise Injected Observed Vmags for Star ID: {}'.format(star_id))\n",
        "    plt.legend()\n",
        "    plt.grid(True)\n",
        "\n",
        "\n",
        "    # Show plot\n",
        "    plt.show()"
      ],
      "metadata": {
        "id": "58Ua2hIThe_V"
      },
      "execution_count": null,
      "outputs": []
    },
    {
      "cell_type": "markdown",
      "metadata": {
        "id": "bK21MlF3XB8A"
      },
      "source": [
        "#3: Parameter Definitions and Main"
      ]
    },
    {
      "cell_type": "markdown",
      "metadata": {
        "id": "xMRz_iOWWet0"
      },
      "source": [
        "### 3.a: Camera Parameter Setup\n",
        "This will define all parameters for the example camera in question: the Andor iXon Ultra 888 EMCCD. Parameters defined here given by USAF POC.\n"
      ]
    },
    {
      "cell_type": "code",
      "execution_count": null,
      "metadata": {
        "colab": {
          "base_uri": "https://localhost:8080/"
        },
        "id": "aSztJddYU-EQ",
        "outputId": "5fe69d66-2f2c-4519-c685-c4ae7726b80b"
      },
      "outputs": [
        {
          "output_type": "stream",
          "name": "stdout",
          "text": [
            "\n",
            "# Define observer location parameters\n",
            "latitude = '20.7'   # Latitude in degrees\n",
            "longitude = '-156.3'  # Longitude in degrees E GMT\n",
            "site_altitude = 3058  # Altitude in meters\n",
            "azimuth = 231.15765571070443 #deg: az to geo obs\n",
            "elevation = 79.8997746049597 #deg: elevation of pointing from spot to geo obs\n",
            "\n",
            "# Observation parameters\n",
            "start epoch = 2022-03-01 10:00:00  # Start time (February 19, 2024, at midnight local)\n",
            "step_time = 10  # Time increment for simulation in seconds\n",
            "duration = 28800  # Total observation time (8 hours)\n",
            "\n",
            "# Other parameters\n",
            "fov_side_deg = 0.5  # Field of view (FOV) side in degrees\n",
            "fov_side_arcsec = 4.3  # Instantaneous Field of View (IFOV) in arcseconds\n",
            "max_occultation_threshold = 0.1  # Threshold for detecting occultation (10% reduction in photon flux)\n",
            "pixels_per_second_at_geo=3.488372093023256 #pixels/sec stars are drifting through\n",
            "\n",
            "# Camera parameters\n",
            "frame_rate = 0.0056  # Frame rate in frames per second (5.6 ms framerate)\n",
            "crop_size = (128, 128)  # Crop size of the camera\n",
            "binning = 4  # Binning factor\n",
            "\n",
            "Altitude: 42d24m48.74401173s\n",
            "Azimuth: 80d34m05.97043294s\n",
            "FOV Right Ascension (RA): 152.8934904398822\n",
            "FOV Declination (Dec): 20.7\n"
          ]
        }
      ],
      "source": [
        "\n",
        "# @title\n",
        "from datetime import datetime, timedelta\n",
        "from astropy.coordinates import EarthLocation, AltAz\n",
        "from astropy.time import Time\n",
        "import astropy.units as u\n",
        "import numpy as np\n",
        "\n",
        "# Observer location parameters\n",
        "latitude = 20.7   # Latitude in degrees\n",
        "longitude = -156.3   # Longitude in degrees W GMT\n",
        "site_altitude = 3058  # Altitude in meters\n",
        "azimuth,elevation=calculate_az_el(latitude,longitude, site_altitude)\n",
        "\n",
        "# Observation parameters\n",
        "start_epoch = datetime(2022, 3, 1, 10, 0, 0)  # Start time (February 19, 2024, at midnight local)\n",
        "step_time = 10  # Time increment for simulation in seconds\n",
        "duration = 8 * 3600  # Total observation time (8 hours)\n",
        "\n",
        "# Other parameters\n",
        "fov_side_deg = 0.5  # Field of view (FOV) side in degrees\n",
        "fov_side_arcsec = 4.3  # Instantaneous Field of View (IFOV) in arcseconds\n",
        "max_occultation_threshold = 0.10  # Threshold for detecting occultation (10% reduction in photon flux)\n",
        "fov_at_geo_width=23.78*1000 #km\n",
        "fov_at_geo_height=23.78*1000 #km\n",
        "\n",
        "# Camera parameters\n",
        "frame_rate = 0.0056  # Frame rate in frames per second (5.6 ms framerate)\n",
        "crop_size = (128, 128)  # Crop size of the camera\n",
        "binning = 4  # Binning factor\n",
        "pixels_per_second_at_geo=15/fov_side_arcsec #geodeg/fov_side_arcsec\n",
        "print(f\"\"\"\n",
        "# Define observer location parameters\n",
        "latitude = '{latitude}'   # Latitude in degrees\n",
        "longitude = '{longitude}'  # Longitude in degrees E GMT\n",
        "site_altitude = {site_altitude}  # Altitude in meters\n",
        "azimuth = {azimuth} #deg: az to geo obs\n",
        "elevation = {elevation} #deg: elevation of pointing from spot to geo obs\n",
        "\n",
        "# Observation parameters\n",
        "start epoch = {start_epoch}  # Start time (February 19, 2024, at midnight local)\n",
        "step_time = {step_time}  # Time increment for simulation in seconds\n",
        "duration = {duration}  # Total observation time (8 hours)\n",
        "\n",
        "# Other parameters\n",
        "fov_side_deg = {fov_side_deg}  # Field of view (FOV) side in degrees\n",
        "fov_side_arcsec = {fov_side_arcsec}  # Instantaneous Field of View (IFOV) in arcseconds\n",
        "max_occultation_threshold = {max_occultation_threshold}  # Threshold for detecting occultation (10% reduction in photon flux)\n",
        "pixels_per_second_at_geo={pixels_per_second_at_geo} #pixels/sec stars are drifting through\n",
        "\n",
        "# Camera parameters\n",
        "frame_rate = {frame_rate}  # Frame rate in frames per second (5.6 ms framerate)\n",
        "crop_size = {crop_size}  # Crop size of the camera\n",
        "binning = {binning}  # Binning factor\n",
        "\"\"\")\n",
        "\n",
        "# Call the function to calculate observation parameters\n",
        "altitude, azimuth, fov_ra, fov_dec, fov_ra_min, fov_ra_max, fov_dec_min, fov_dec_max = calculate_observation_parameters(latitude, longitude, site_altitude, start_epoch, fov_side_deg)\n",
        "\n",
        "# Print out the results\n",
        "print(\"Altitude:\", altitude)\n",
        "print(\"Azimuth:\", azimuth)\n",
        "print(\"FOV Right Ascension (RA):\", fov_ra)\n",
        "print(\"FOV Declination (Dec):\", fov_dec)"
      ]
    },
    {
      "cell_type": "markdown",
      "metadata": {
        "id": "KArwXsZUX-pu"
      },
      "source": [
        "This defines the FOV center Coords in RA and DEC, and the FOV boundaries"
      ]
    },
    {
      "cell_type": "code",
      "execution_count": null,
      "metadata": {
        "colab": {
          "base_uri": "https://localhost:8080/"
        },
        "id": "_JwRgV86XK6H",
        "outputId": "9aeafd44-99c7-4b5f-9201-9d335c1539c7"
      },
      "outputs": [
        {
          "output_type": "stream",
          "name": "stdout",
          "text": [
            "42d24m48.74401173s\n"
          ]
        }
      ],
      "source": [
        "print(altitude)"
      ]
    },
    {
      "cell_type": "markdown",
      "metadata": {
        "id": "iOMhNTeJZDjz"
      },
      "source": [
        "###3.b: Visualize Baseline FOV-optional"
      ]
    },
    {
      "cell_type": "code",
      "execution_count": null,
      "metadata": {
        "id": "oAuUteWnYBUg",
        "colab": {
          "base_uri": "https://localhost:8080/"
        },
        "outputId": "590de78a-dbda-43be-d8fa-3f3160ac03ba"
      },
      "outputs": [
        {
          "output_type": "display_data",
          "data": {
            "text/plain": [
              "<Figure size 800x600 with 1 Axes>"
            ],
            "image/png": "[encoded data removed]"
          },
          "metadata": {}
        },
        {
          "output_type": "display_data",
          "data": {
            "text/plain": [
              "<Figure size 800x600 with 1 Axes>"
            ],
            "image/png": "[encoded data removed]"
          },
          "metadata": {}
        }
      ],
      "source": [
        "plot_fov_coordinates(fov_ra,fov_dec)\n",
        "plot_fov_pixels(crop_size)"
      ]
    },
    {
      "cell_type": "markdown",
      "metadata": {
        "id": "QIRWwMhRbrBR"
      },
      "source": [
        "#4: Query Star Catalog"
      ]
    },
    {
      "cell_type": "code",
      "execution_count": null,
      "metadata": {
        "colab": {
          "base_uri": "https://localhost:8080/",
          "height": 842
        },
        "id": "XvMdyyYibrHJ",
        "outputId": "6c7ab94a-063b-497f-eda3-4848d56cbc91"
      },
      "outputs": [
        {
          "output_type": "stream",
          "name": "stdout",
          "text": [
            "<Table length=11>\n",
            "    Source ID           RA (deg)          Dec (deg)      V Magnitude\n",
            "                          deg                deg             mag    \n",
            "      int64             float64            float64         float32  \n",
            "------------------ ------------------ ------------------ -----------\n",
            "625426987250746112   153.154648243823 20.482527322655788    9.223762\n",
            "625421077375748992 153.09277656796255 20.338230289278833   10.797385\n",
            "625395758543540992   153.031089136432  20.21633639092781    9.782532\n",
            "625392902390288896 152.75698982086632 20.206054953373865   10.408919\n",
            "628447487426672512 152.78623500754063  20.69554120897314   6.5306683\n",
            "628407900712258432 152.69735279797308  20.45869761391244   10.979878\n",
            "628457378735500032 153.08729663079663 20.905031219118985     9.87105\n",
            "628401028764960512 152.53695464113622  20.36351680151607    10.50192\n",
            "628505246146831360 152.59436552804846 20.945603833010885   7.3214993\n",
            "628410791226127360   152.395156823551  20.30237197141823    9.608063\n",
            "628510017854677376 152.89511092994596 21.043817672696793   10.337388\n"
          ]
        },
        {
          "output_type": "display_data",
          "data": {
            "text/plain": [
              "<Figure size 1000x600 with 2 Axes>"
            ],
            "image/png": "[encoded data removed]"
          },
          "metadata": {}
        }
      ],
      "source": [
        "from pprint import pprint\n",
        "\n",
        "# Call the function and store the returned table data\n",
        "bright_stars = query_gaia_fov_at_epoch(fov_ra_min, fov_dec_min, fov_ra_max, fov_dec_max, start_epoch, vmag_cutoff=11)\n",
        "\n",
        "# Print the entire table nicely\n",
        "pprint(bright_stars)\n",
        "\n",
        "plot_stars_in_fov(bright_stars['RA (deg)'], bright_stars['Dec (deg)'], bright_stars['V Magnitude'], fov_ra_min, fov_ra_max, fov_dec_min, fov_dec_max)\n"
      ]
    },
    {
      "cell_type": "markdown",
      "metadata": {
        "id": "8nQlOfqGXneC"
      },
      "source": []
    },
    {
      "cell_type": "code",
      "execution_count": null,
      "metadata": {
        "id": "4EZewBe6Y_YM"
      },
      "outputs": [],
      "source": []
    },
    {
      "cell_type": "markdown",
      "metadata": {
        "id": "AW1m9YFXXcP5"
      },
      "source": [
        "# 5: Looper\n",
        "Lets loop through time\n",
        "\n",
        "*   step: I define this as integration time steps up to a threshold ie: feb 19 2024 10:00:00:05, feb 19 2024 10:00:00:10 etc up to feb 19 2024 10:00:10:00, our threshold is 10s.\n",
        "\n",
        "*   batch: new random date, contains steps ie: feb 19 2024, mar 20 1990, etc\n",
        "\n",
        "*   bright_stars array: star id, ra, dec, vmag\n",
        "\n",
        "*   step_array: star id, ra, dec, vmag, time\n",
        "\n",
        "*   finalstep_array: star id, ra, dec, count, time, truth\n",
        "\n",
        "\n",
        "\n"
      ]
    },
    {
      "cell_type": "markdown",
      "metadata": {
        "id": "JQkDqQwdZMal"
      },
      "source": []
    },
    {
      "cell_type": "code",
      "execution_count": null,
      "metadata": {
        "colab": {
          "base_uri": "https://localhost:8080/"
        },
        "id": "xSCnhXQpXcrD",
        "outputId": "ef5aa4c4-9878-418d-b4ee-a26808b78130"
      },
      "outputs": [
        {
          "metadata": {
            "tags": null
          },
          "name": "stdout",
          "output_type": "stream",
          "text": [
            "90\n"
          ]
        },
        {
          "metadata": {
            "tags": null
          },
          "name": "stderr",
          "output_type": "stream",
          "text": [
            " 27%|██▋       | 24/90 [35:17<1:36:35, 87.82s/it]"
          ]
        }
      ],
      "source": [
        "from datetime import datetime, timedelta\n",
        "import time\n",
        "from astropy.table import Table, vstack  # Import Table class and vstack function from astropy.table module\n",
        "from tqdm import tqdm\n",
        "\n",
        "# Record the start time\n",
        "start_time = time.time()\n",
        "\n",
        "epoch_increment = timedelta(milliseconds=5.6)  # Increment epoch by 5 milliseconds this number was calculated\n",
        "counter = 0\n",
        "bright_stars_list = []  # List to store bright stars data with epoch time\n",
        "snr=9.5\n",
        "# Loop through the epochs and calculate observation parameters\n",
        "\n",
        "# Initialize current_epoch and other necessary variables before this block\n",
        "current_epoch = start_epoch\n",
        "total_epochs = (timedelta(seconds=0.5) // epoch_increment) + 1\n",
        "print(total_epochs)\n",
        "# Create a tqdm progress bar\n",
        "with tqdm(total=total_epochs) as pbar:\n",
        "    while current_epoch <= start_epoch + timedelta(seconds=0.5):  # Loop for x seconds THIS IS THE TIME PARAM (timedelta(seconds=how long you want to run for))\n",
        "        # Call the function to calculate observation parameters for the current epoch\n",
        "        altitude, azimuth, fov_ra, fov_dec, fov_ra_min, fov_ra_max, fov_dec_min, fov_dec_max = calculate_observation_parameters(\n",
        "            latitude, longitude, site_altitude, current_epoch, fov_side_deg)\n",
        "\n",
        "        # Query the data\n",
        "        # Call the function and store the returned table data\n",
        "        bright_stars = query_gaia_fov_at_epoch(fov_ra_min, fov_dec_min, fov_ra_max, fov_dec_max, start_epoch, vmag_cutoff=11)\n",
        "\n",
        "        # Append epoch time to each entry in bright_stars\n",
        "        bright_stars['Epoch'] = current_epoch\n",
        "\n",
        "        # Add observed magnitude to bright_stars\n",
        "        bright_stars['Observed Magnitude'] = add_observed_magnitude(snr, bright_stars['V Magnitude'])\n",
        "\n",
        "        # Append bright_stars to the list\n",
        "        bright_stars_list.append(bright_stars)\n",
        "\n",
        "        # Increment the epoch by 5 milliseconds for the next iteration\n",
        "        current_epoch += epoch_increment\n",
        "        counter += 1\n",
        "\n",
        "        # Update the progress bar\n",
        "        pbar.update(1)\n",
        "\n",
        "print(\"Code ran:\", counter, \"times.\")\n",
        "print(\"start epoch:\", start_epoch)\n",
        "print(\"end epoch:\", current_epoch)\n",
        "\n",
        "\n",
        "# Concatenate the tables in bright_stars_list\n",
        "final_bright_stars = vstack(bright_stars_list)\n",
        "\n",
        "\n",
        "# Record the end time\n",
        "end_time = time.time()\n",
        "\n",
        "# Calculate the runtime\n",
        "runtime = end_time - start_time\n",
        "\n",
        "# Print the first few and last few items in final_bright_stars\n",
        "print(\"Length of final_bright_stars:\", len(final_bright_stars))\n",
        "print(\"First few items in final_bright_stars:\")\n",
        "print(final_bright_stars[:5])  # Print the first 5 rows\n",
        "print(\"\\nLast few items in final_bright_stars:\")\n",
        "print(final_bright_stars[-5:])  # Print the last 5 rows\n",
        "\n",
        "# Print the runtime\n",
        "print(\"Runtime:\", runtime, \"seconds\")\n"
      ]
    },
    {
      "cell_type": "code",
      "execution_count": null,
      "metadata": {
        "id": "w4n2kiLhc6NF"
      },
      "outputs": [],
      "source": [
        "# Define the source ID you want to search for\n",
        "target_source_id = 628852004626257152     # Replace this with the desired source ID\n",
        "\n",
        "# Filter the final_bright_stars table based on the target_source_id\n",
        "target_stars = final_bright_stars[final_bright_stars['Source ID'] == target_source_id]\n",
        "\n",
        "# Print the attributes of the target stars\n",
        "print(\"Attributes of stars with Source ID:\", target_source_id)\n",
        "print(target_stars)\n"
      ]
    },
    {
      "cell_type": "code",
      "execution_count": null,
      "metadata": {
        "id": "ndW2gWTlxMzC"
      },
      "outputs": [],
      "source": [
        "import matplotlib.pyplot as plt\n",
        "import numpy as np\n",
        "\n",
        "# Define the source ID you want to plot\n",
        "target_source_id = 625571989641269120    # Replace this with the desired source ID\n",
        "\n",
        "# Filter the final_bright_stars table based on the target_source_id\n",
        "target_stars = final_bright_stars[final_bright_stars['Source ID'] == target_source_id]\n",
        "\n",
        "# Extract epoch and observed magnitude data for the target source ID\n",
        "epochs_target = target_stars['Epoch']\n",
        "observed_magnitudes_target = target_stars['Observed Magnitude']\n",
        "\n",
        "# Convert epoch to milliseconds\n",
        "start_time_ms = (start_epoch - start_epoch).total_seconds() * 1000  # Convert start_epoch to milliseconds\n",
        "epochs_ms = [(epoch - start_epoch).total_seconds() * 1000 for epoch in epochs_target]\n",
        "\n",
        "# Plot observed magnitude vs time for the target source ID\n",
        "plt.figure(figsize=(10, 6))\n",
        "plt.plot(epochs_ms, observed_magnitudes_target, marker='o', linestyle='', color='blue', alpha=0.5, label='Observed Magnitude')\n",
        "\n",
        "# Calculate mean observed magnitude for the target source ID\n",
        "mean_observed_magnitude_target = np.mean(observed_magnitudes_target)\n",
        "\n",
        "# Plot mean as a horizontal line for the target source ID\n",
        "plt.axhline(y=mean_observed_magnitude_target, color='red', linestyle='--', label='Mean Observed Magnitude')\n",
        "\n",
        "# Add labels and title\n",
        "plt.xlabel('Epoch (ms)')\n",
        "plt.ylabel('Observed Magnitude (Vmag)')\n",
        "plt.title('Observed Magnitude vs Time for Star ID: {}'.format(target_source_id))\n",
        "plt.legend()\n",
        "\n",
        "# Show plot\n",
        "plt.grid(True)\n",
        "plt.show()\n"
      ]
    },
    {
      "cell_type": "markdown",
      "metadata": {
        "id": "o_FNOfuQ1n2M"
      },
      "source": [
        "### 5.b: Loop through and calculate count#"
      ]
    },
    {
      "cell_type": "code",
      "execution_count": null,
      "metadata": {
        "id": "Zty1amc2059o"
      },
      "outputs": [],
      "source": [
        "import numpy as np\n",
        "# Add a new column called \"truth\" filled with zeros, nominal\n",
        "final_bright_stars['count'] = np.zeros(len(final_bright_stars), dtype=float)\n",
        "\n",
        "\n",
        "telescope_diameter = 1  # Telescope diameter in meters\n",
        "filter_bandpass = 86  # Bandpass of the filter CHANGE\n",
        "efficiency = 0.9  # Overall telescope/instrument/filter/detector efficiency\n",
        "aperture_radius=1\n",
        "sky_brightness=19\n",
        "\n",
        "# Iterate through final_bright_stars and calculate photons detected for each star\n",
        "\n",
        "for index in range(len(final_bright_stars)):\n",
        "    magnitude = final_bright_stars['Observed Magnitude'][index]\n",
        "    photons_detected = calculate_photons_detected(magnitude, telescope_diameter, filter_bandpass, efficiency, final_bright_stars)\n",
        "    final_bright_stars['count'][index] = photons_detected\n",
        "\n",
        "#Print final_bright_stars with the 'count' column added\n",
        "#print(final_bright_stars)\n",
        "\n",
        "for index in range(len(final_bright_stars)):\n",
        "    count_value = float(final_bright_stars['count'][index])\n",
        "    count_value=count_value*0.005\n",
        "    final_bright_stars['count'][index] = count_value\n",
        "\n",
        "\n",
        "\n",
        "final_bright_stars_nominal=final_bright_stars\n",
        "print(final_bright_stars_nominal)\n",
        "\n",
        "print(final_bright_stars)"
      ]
    },
    {
      "cell_type": "code",
      "execution_count": null,
      "metadata": {
        "id": "oTPh0XQZdscv"
      },
      "outputs": [],
      "source": [
        "import math\n",
        "aperture_radius = 1  # Aperture radius in radians (converted from arcseconds)\n",
        "sky_brightness = 19  # Sky brightness in magnitudes per square arcsecon\"d\n",
        "photons_per_second = calculate_sky_photons_per_second(sky_brightness, telescope_diameter, filter_bandpass, efficiency, aperture_radius)\n",
        "print(\"Number of photons per second from the sky recorded in the aperture:\", photons_per_second*0.005)\n"
      ]
    },
    {
      "cell_type": "markdown",
      "metadata": {
        "id": "pwySXB4P5MxP"
      },
      "source": [
        "###Count Comparison Noise\n",
        "\n",
        "\n",
        "Photon count from the star without noise:\n",
        "\n",
        "PhotonCount_Star = PhotonsPerSecond_Star * ExposureTime\n"
      ]
    },
    {
      "cell_type": "markdown",
      "metadata": {
        "id": "W4KqxHAF7-Sq"
      },
      "source": [
        "Calculate the photon count from the noise:\n",
        "\n",
        "Convert electronic noise and sky background noise from electrons to photons using the quantum efficiency:\n",
        "\n",
        "\n",
        "PhotonsFromElectronicNoise = ElectronicNoise * QuantumEfficiency\n",
        "\n",
        "\n",
        "PhotonsFromSkyBackgroundNoise = SkyBackgroundNoise * QuantumEfficiency\n",
        "\n",
        "\n",
        "TotalPhotonCount_Noise = PhotonsFromElectronicNoise + PhotonsFromSkyBackgroundNoise"
      ]
    },
    {
      "cell_type": "code",
      "execution_count": null,
      "metadata": {
        "id": "HA0xmYhI8GgW"
      },
      "outputs": [],
      "source": [
        "for index in range(len(final_bright_stars_nominal)):\n",
        "    count_value = float(final_bright_stars_nominal['count'][index])\n",
        "    count_value_electronic_noise=100*.9 #90% efficient?\n",
        "    photons_per_second = calculate_sky_photons_per_second(sky_brightness, telescope_diameter, filter_bandpass, efficiency, aperture_radius)\n",
        "    count_value_sky=photons_per_second*frame_rate\n",
        "    noise=count_value_electronic_noise+count_value_sky\n",
        "    final_bright_stars_nominal['count'][index] = count_value+add_noise_to_count(noise)\n",
        "\n",
        "print(final_bright_stars_nominal)"
      ]
    },
    {
      "cell_type": "code",
      "execution_count": null,
      "metadata": {
        "id": "7ukdiqYbQ5Zn"
      },
      "outputs": [],
      "source": []
    },
    {
      "cell_type": "markdown",
      "metadata": {
        "id": "E8oArkpE8b3X"
      },
      "source": [
        "Compare the two photon counts:\n",
        "Compare PhotonCount_Star and TotalPhotonCount_Noise to see the impact of noise on your measurement."
      ]
    },
    {
      "cell_type": "markdown",
      "metadata": {
        "id": "Ksr1U-G8121i"
      },
      "source": [
        "###  5.c: Add Truth to entry\n",
        "0: indicates nominal noise\n",
        "1: indicates occultation event"
      ]
    },
    {
      "cell_type": "code",
      "execution_count": null,
      "metadata": {
        "id": "JtdYJ8jA8cER"
      },
      "outputs": [],
      "source": [
        "# Add a new column called \"truth\" filled with zeros, nominal\n",
        "final_bright_stars_nominal['truth'] = np.zeros(len(final_bright_stars), dtype=int)\n",
        "\n",
        "# Verify the addition of the new column\n",
        "\n",
        "headers = list(final_bright_stars_nominal[0].keys())\n",
        "print(headers)\n",
        "print_2d_array(final_bright_stars_nominal, headers)\n"
      ]
    },
    {
      "cell_type": "code",
      "execution_count": null,
      "metadata": {
        "id": "B6gRSF7G129w"
      },
      "outputs": [],
      "source": [
        "plot_star_observation(final_bright_stars_nominal, 628457378735500032, start_epoch)\n"
      ]
    },
    {
      "cell_type": "markdown",
      "metadata": {
        "id": "Fmz4S8TJC4Bs"
      },
      "source": [
        "#6: Occultation Injection"
      ]
    },
    {
      "cell_type": "markdown",
      "metadata": {
        "id": "WOxxEeM3DFpS"
      },
      "source": [
        "Find the projected solid angle of the satellite on telescope. This will return how much light from an incoming star a satellite is blocking. Scale % blocked to count.\n"
      ]
    },
    {
      "cell_type": "code",
      "execution_count": null,
      "metadata": {
        "id": "zoD9TR1kDKID"
      },
      "outputs": [],
      "source": [
        "# import math\n",
        "\n",
        "# geo_distance_from_loc=(35796/math.tan(latitude * math.pi / 180))*1000\n",
        "# print(geo_distance_from_loc, \"m from GEO\")\n",
        "\n",
        "# thetaRSO=(rso/geo_distance_from_loc) #GEO distance from observer\n",
        "# thetaRSO=math.atan(thetaRSO)\n",
        "# print(\"ThetaRSO: \", thetaRSO, \"rads\")  #This is the instantaneous fractional area blocked by the satellite\n",
        "\n",
        "# a_satellite=math.pi*(rso/2)**2\n",
        "# print(\"a: \", a_satellite)\n",
        "\n",
        "# solid_angle=a_satellite/geo_distance_from_loc**2\n",
        "# print(\"solid angle: \",solid_angle)"
      ]
    },
    {
      "cell_type": "markdown",
      "metadata": {
        "id": "iVbufDGbFDya"
      },
      "source": [
        "### How large does RSO need to be to notice dip- Side calculation"
      ]
    },
    {
      "cell_type": "code",
      "execution_count": null,
      "metadata": {
        "id": "6i8Qr-D730ZP"
      },
      "outputs": [],
      "source": [
        "#the tangental velocity of a satellte passing overhead, ignoring earth rotation\n",
        "\n",
        "r=36000000 #m\n",
        "rso=5 #this is diameter of rso\n",
        "\n",
        "#period=2*math.pi*math.sqrt((r**3)/(G*M))\n",
        "#print(period/3600)\n",
        "\n",
        "# Satellite diameters\n",
        "satellite_diameters = [0.5, 1, 2, 3, 4, 5, 6, 7, 8, 9, 10, 20, 30, 50, 65]\n",
        "crossing_times_ms = []\n",
        "\n",
        "# Loop through satellite diameters and calculate crossing times\n",
        "for rso_loop in satellite_diameters:\n",
        "    velocity, thetaRSO, ts = calculate_satellite_params(r, rso_loop)\n",
        "    ts_ms = ts * 1000  # Convert to milliseconds\n",
        "    crossing_times_ms.append(ts_ms)\n",
        "    # Print the satellite diameter and crossing time\n",
        "    print(f'Satellite Diameter: {rso_loop} m, Crossing Time: {ts_ms:.6f} ms')\n",
        "\n",
        "\n",
        "\n",
        "# Find the index of the crossing time closest to 5.6 milliseconds\n",
        "index_5ms = min(range(len(crossing_times_ms)), key=lambda i: abs(crossing_times_ms[i] - 5.6))\n",
        "\n",
        "# Retrieve the corresponding satellite diameter\n",
        "x_point = satellite_diameters[index_5ms]\n",
        "\n",
        "# Plot the graph\n",
        "plt.plot(satellite_diameters, crossing_times_ms, marker='o')\n",
        "plt.axhline(y=5.6, color='r', linestyle='--')  # Add a red dashed line at y=5.6\n",
        "plt.axvline(x=x_point, color='g', linestyle='--')  # Add a green dashed line at x=satellite diameter where crossing time = 5.6ms\n",
        "plt.title('Crossing Time vs. Satellite Diameter')\n",
        "plt.xlabel('Satellite Diameter (m)')\n",
        "plt.ylabel('Crossing Time (ms)')\n",
        "plt.grid(True)\n",
        "plt.show()\n",
        "\n",
        "\n",
        "\n",
        "\n",
        "\n",
        "\n",
        "\n",
        "\n"
      ]
    },
    {
      "cell_type": "markdown",
      "metadata": {
        "id": "49FtPHTbL5dk"
      },
      "source": [
        "###Calculate the projection specifics"
      ]
    },
    {
      "cell_type": "code",
      "execution_count": null,
      "metadata": {
        "id": "ny972NzsWCM4"
      },
      "outputs": [],
      "source": [
        "r=36000000\n",
        "rso=5\n",
        "velocity,thetaRSO,ts=calculate_satellite_params(r,rso)\n",
        "print(\"Satellite velocity(velocity): \", velocity, \"m/s\")\n",
        "print(\"Satellite angle projected from observer(thetaRSO): \", thetaRSO, \"arcsec\")\n",
        "\n",
        "print(\"Satellite crossing time(ts): \", ts, \"s\")\n",
        "\n",
        "def calculate_projection_area(telescope_diameter, angle_arcsec):\n",
        "    \"\"\"\n",
        "    Calculate the area of the projection given the diameter of the telescope and the angle in square arcseconds.\n",
        "\n",
        "    Parameters:\n",
        "        telescope_diameter (float): Diameter of the telescope (in meters).\n",
        "        angle_arcsec (float): Angle of the projection (in square arcseconds).\n",
        "\n",
        "    Returns:\n",
        "        float: Area of the projection (in square meters).\n",
        "    \"\"\"\n",
        "    # Convert square arcseconds to square degrees\n",
        "    angle_degrees = angle_arcsec / (3600 ** 2)\n",
        "\n",
        "    # Calculate the area of the projection in square meters\n",
        "    projection_area = ((telescope_diameter / 2) ** 2) * (angle_degrees * (2 * math.pi))\n",
        "\n",
        "    return projection_area\n",
        "\n",
        "\n",
        "def calculate_percentage_used(telescope_diameter, projection_diameter):\n",
        "    \"\"\"\n",
        "    Calculate the percentage of the telescope's diameter used by the projection.\n",
        "\n",
        "    Parameters:\n",
        "        telescope_diameter (float): Diameter of the telescope (in meters).\n",
        "        projection_diameter (float): Diameter of the projection (in meters).\n",
        "\n",
        "    Returns:\n",
        "        float: Percentage of the telescope's diameter used by the projection.\n",
        "    \"\"\"\n",
        "    percentage_used = (projection_diameter / telescope_diameter) * 100\n",
        "    return percentage_used\n",
        "\n",
        "\n",
        "\n",
        "\n",
        "projection_area = calculate_projection_area(telescope_diameter, thetaRSO)\n",
        "print(\"Projection Diameter(projection_diameter):\", projection_area, \"meters^2\")\n",
        "percentage_used = calculate_percentage_used(telescope_diameter, projection_area)\n",
        "print(\"Percentage of telescope used by projection:\", percentage_used, \"%\")"
      ]
    },
    {
      "cell_type": "markdown",
      "metadata": {
        "id": "2fEtuirZLzFz"
      },
      "source": [
        "###Calculate the count reduction caused by the occultation\n",
        "effect is how many frames we see changed based off of our crossing time and frame rate\n",
        "\n",
        "fraction decrease in light is 1/how many frames we see it."
      ]
    },
    {
      "cell_type": "code",
      "execution_count": null,
      "metadata": {
        "id": "3mgJiTKJLzSw"
      },
      "outputs": [],
      "source": [
        "#this is only for int times longer than crossing time\n",
        "effect=frame_rate/ts #ratio of integration time to crossing time, GROOT\n",
        "print(\"effect: \", effect)\n",
        "print(ts)\n",
        "\n",
        "#else, shorter only 1 instance of occ.\n",
        "\n",
        "#GROOT 4.1 first paragraph last sentence\n",
        "fraction_decrease_light=1/effect\n",
        "print(\"decrease_in_light: \", fraction_decrease_light)\n",
        "percentage_decrease_light=fraction_decrease_light*100\n",
        "print(\"decrease in light percentage: \", percentage_decrease_light)"
      ]
    },
    {
      "cell_type": "markdown",
      "metadata": {
        "id": "9inoobWKTPdX"
      },
      "source": [
        "###Insert Occultation into data set\n",
        "occ rate is what percentage of time do we expect to see an occ, for purposes of training i set it at 10% just for now.\n",
        "\n",
        "ts is #crossing time ts=rso(m)/velocity(tangential velocity as seen overhead m/s)\n"
      ]
    },
    {
      "cell_type": "code",
      "execution_count": null,
      "metadata": {
        "id": "hc2ol0TXKUke"
      },
      "outputs": [],
      "source": [
        "import random\n",
        "occ_rate=10 #example  for data generation purposes, 10% of the time, I will see a decrease in light from occultation\n",
        "ts_ms=ts*1000\n",
        "print(ts_ms)\n",
        "frame_count=(frame_rate*1000)/ts_ms #how many frames can i fit in the integration time\n",
        "print(\"frame_count: \", frame_count)\n",
        "frame_count=round(frame_count)\n",
        "print(\"rounded_frame_count: \", frame_count)\n",
        "\n",
        "##########################################################################\n",
        "#METHOD 1: Use total time to inject\n",
        "#calculate total time, take occ rate % of that\n",
        "#loop through, select random star and inject occultation\n",
        "\n",
        "def calculate_total_time_occ(occ_rate,ts_ms):\n",
        "  total_times_occ=(occ_rate/100)*counter\n",
        "  return total_times_occ\n",
        "\n",
        "def select_random_star_one(unique_source_ids):\n",
        "  selected_stars = random.sample(list(unique_source_ids),1)\n",
        "  return selected_stars\n",
        "\n",
        "def decrease_light_one(selected_stars, frame_count, decrease_percentage, final_bright_stars):\n",
        "    for star_id in selected_stars:\n",
        "        # Filter rows for the current star ID\n",
        "        star_rows = [star for star in final_bright_stars if star['Source ID'] == star_id]\n",
        "        # Select a random start index\n",
        "        start_index = random.randint(0, len(star_rows) - frame_count)\n",
        "        # Iterate through the selected rows and decrease count\n",
        "        for i in range(start_index, start_index + frame_count):\n",
        "            row = star_rows[i]\n",
        "            row['count'] -= int(row['count'] * decrease_percentage / 100)\n",
        "            row['truth']=1\n",
        "    return final_bright_stars\n",
        "\n",
        "\n",
        "def occ_method_insert(total_times_occ,unique_source_ids):\n",
        "  #print(\"here\")\n",
        "  counterOne=0\n",
        "  while (counterOne<=(total_times_occ/frame_count)):\n",
        "    selected_stars=select_random_star_one(unique_source_ids)\n",
        "    final_bright_stars=decrease_light_one(selected_stars,frame_count,percentage_decrease_light,final_bright_stars_nominal)\n",
        "    plot_star_observation(final_bright_stars_nominal,selected_stars, start_epoch)\n",
        "\n",
        "    counterOne=counterOne+1\n",
        "    print(\"Occ Injected: \", counterOne)\n",
        "    print(\"Star Selected: \", selected_stars)\n",
        "\n",
        "\n",
        "\n",
        "unique_source_ids = set()\n",
        "for star in final_bright_stars:\n",
        "  unique_source_ids.add(star['Source ID'])\n",
        "total_times_occ=calculate_total_time_occ(occ_rate,counter)\n",
        "#print(total_times_occ/frame_count)\n",
        "#print(\"HEREHERE\")\n",
        "occ_method_insert(total_times_occ,unique_source_ids)\n",
        "\n",
        "\n",
        "# ##########################################################################\n",
        "# #METHOD 2: Use X% of stars and inject 1\n",
        "\n",
        "\n",
        "# def count_unique_source_ids(final_bright_stars):\n",
        "#     unique_source_ids = set()\n",
        "#     for star in final_bright_stars:\n",
        "#         unique_source_ids.add(star['Source ID'])\n",
        "#     return len(unique_source_ids)\n",
        "\n",
        "# import random\n",
        "\n",
        "# def select_random_stars(final_bright_stars, percentage):\n",
        "#     total_unique_stars = count_unique_source_ids(final_bright_stars)\n",
        "#     number_of_stars_to_select = int(total_unique_stars * percentage / 100)\n",
        "\n",
        "#     unique_source_ids = set()\n",
        "#     for star in final_bright_stars:\n",
        "#         unique_source_ids.add(star['Source ID'])\n",
        "\n",
        "#     selected_stars = random.sample(list(unique_source_ids), number_of_stars_to_select)\n",
        "#     return selected_stars\n",
        "\n"
      ]
    },
    {
      "cell_type": "code",
      "execution_count": null,
      "metadata": {
        "id": "SqugcKW1Tvvt"
      },
      "outputs": [],
      "source": [
        "#unique_count = count_unique_source_ids(final_bright_stars_nominal)\n",
        "#print(\"Number of unique source IDs:\", unique_count)\n",
        "\n",
        "\n",
        "# # Assuming final_bright_stars is your array and percentage is 10%\n",
        "# selected_star_ids = select_random_stars(final_bright_stars, occ_rate)\n",
        "# print(\"Randomly selected star ID(s) for occultation injection :\", selected_star_ids)\n",
        "\n",
        "\n"
      ]
    },
    {
      "cell_type": "code",
      "execution_count": null,
      "metadata": {
        "id": "oUCCEIN0a3xI"
      },
      "outputs": [],
      "source": [
        "plot_star_observation(final_bright_stars_nominal, [625421077375748992], start_epoch)\n"
      ]
    },
    {
      "cell_type": "code",
      "execution_count": null,
      "metadata": {
        "id": "wboGYOsycq5B"
      },
      "outputs": [],
      "source": [
        "# def decrease_light(selected_star_ids, frame_count, decrease_percentage, final_bright_stars):\n",
        "#     for star_id in selected_star_ids:\n",
        "#         # Filter rows for the current star ID\n",
        "#         star_rows = [star for star in final_bright_stars if star['Source ID'] == star_id]\n",
        "#         # Select a random start index\n",
        "#         start_index = random.randint(0, len(star_rows) - frame_count)\n",
        "#         # Iterate through the selected rows and decrease count\n",
        "#         for i in range(start_index, start_index + frame_count):\n",
        "#             row = star_rows[i]\n",
        "#             row['count'] -= int(row['count'] * decrease_percentage / 100)\n",
        "#             row['truth']=1\n",
        "#     return final_bright_stars\n",
        "\n",
        "\n",
        "# # Assuming selected_star_ids, frame_count, decrease_percentage, and final_bright_stars are defined\n",
        "# updated_bright_stars = decrease_light(selected_star_ids, frame_count, percentage_decrease_light, final_bright_stars_nominal)\n"
      ]
    },
    {
      "cell_type": "code",
      "execution_count": null,
      "metadata": {
        "id": "DWynCkBDdY4-"
      },
      "outputs": [],
      "source": [
        "#plot_star_observation(final_bright_stars_nominal, [625782855356287232], start_epoch)\n"
      ]
    },
    {
      "cell_type": "markdown",
      "metadata": {
        "id": "wuXO0R_IHGQu"
      },
      "source": [
        "###Save the Data to .xlsx"
      ]
    },
    {
      "cell_type": "code",
      "execution_count": null,
      "metadata": {
        "id": "dIu2s-i8fZzB"
      },
      "outputs": [],
      "source": [
        "# Define the file path template\n",
        "file_path_template = '/content/drive/MyDrive/Colab Notebooks/GIMOSADataSim/output_{}.xlsx'\n",
        "\n",
        "# Sample data format (astropy.table.Table)\n",
        "table_data = final_bright_stars_nominal\n",
        "\n",
        "# Call the function to save data to Excel\n",
        "save_data_to_excel(table_data, start_epoch, file_path_template)"
      ]
    },
    {
      "cell_type": "markdown",
      "metadata": {
        "id": "5blSQ7BET9iu"
      },
      "source": [
        "###Normalize Data"
      ]
    },
    {
      "cell_type": "markdown",
      "source": [],
      "metadata": {
        "id": "JFjHV3iVbol1"
      }
    },
    {
      "cell_type": "code",
      "source": [],
      "metadata": {
        "id": "N-VOn6UyjAWD"
      },
      "execution_count": null,
      "outputs": []
    },
    {
      "cell_type": "code",
      "execution_count": null,
      "metadata": {
        "id": "pQ6mIfFt3J6o"
      },
      "outputs": [],
      "source": [
        "import numpy as np\n",
        "import matplotlib.pyplot as plt\n",
        "\n",
        "def plot_normalized_star_observation(final_bright_stars, star_id, start_epoch):\n",
        "    # Filter the final_bright_stars table based on the target_source_id\n",
        "    target_stars = final_bright_stars[final_bright_stars['Source ID'] == star_id]\n",
        "\n",
        "    # Extract epoch, observed magnitude, and count data for the target source ID\n",
        "    epochs_target = target_stars['Epoch']\n",
        "    observed_magnitudes_target = target_stars['Observed Magnitude']\n",
        "    counts_target = target_stars['count']  # Assuming 'count' is the variable name\n",
        "    truth_value = target_stars['truth']\n",
        "\n",
        "    # Convert epoch to milliseconds\n",
        "    start_time_ms = (start_epoch - start_epoch).total_seconds() * 1000  # Convert start_epoch to milliseconds\n",
        "    epochs_ms = [(epoch - start_epoch).total_seconds() * 1000 for epoch in epochs_target]\n",
        "\n",
        "    # Calculate mean and standard deviation for observed magnitudes and counts\n",
        "    mean_observed_mag = np.mean(observed_magnitudes_target)\n",
        "    std_observed_mag = np.std(observed_magnitudes_target)\n",
        "    mean_count = np.mean(counts_target)\n",
        "    std_count = np.std(counts_target)\n",
        "\n",
        "    # Normalize data\n",
        "    normalized_observed_magnitudes = (observed_magnitudes_target - mean_observed_mag) / std_observed_mag\n",
        "    normalized_counts = (counts_target - mean_count) / std_count\n",
        "\n",
        "    # Plot observed magnitude vs time for the target source ID\n",
        "    plt.figure(figsize=(12, 6))\n",
        "\n",
        "    # # Subplot for normalized observed magnitude\n",
        "    # plt.subplot(1, 2, 1)\n",
        "\n",
        "    # # Plot all data points\n",
        "    # plt.plot(epochs_ms, normalized_observed_magnitudes, marker='o', linestyle='', color='blue', alpha=0.5, label='Normalized Observed Magnitude')\n",
        "\n",
        "    # # Plot data points with truth value == 1 in red\n",
        "    # plt.plot([epoch for truth, epoch in zip(truth_value, epochs_ms) if truth == 1],\n",
        "    #          [normalized_mag for truth, normalized_mag in zip(truth_value, normalized_observed_magnitudes) if truth == 1],\n",
        "    #          marker='o', linestyle='', color='red', alpha=0.5, label='Occultation Obs')\n",
        "\n",
        "    # # Plot mean and standard deviation lines\n",
        "    # plt.axhline(y=0, color='black', linestyle='--', label='Mean')\n",
        "    # plt.axhline(y=1, color='gray', linestyle='--', label='+/- 1 Std Dev')\n",
        "    # plt.axhline(y=-1, color='gray', linestyle='--')\n",
        "    # plt.axhline(y=2, color='silver', linestyle='--', label='+/- 2 Std Dev')\n",
        "    # plt.axhline(y=-2, color='silver', linestyle='--')\n",
        "    # plt.axhline(y=3, color='lightgray', linestyle='--', label='+/- 3 Std Dev')\n",
        "    # plt.axhline(y=-3, color='lightgray', linestyle='--')\n",
        "\n",
        "    # plt.xlabel('Epoch (ms)')\n",
        "    # plt.ylabel('Normalized Observed Magnitude')\n",
        "    # plt.title('Normalized Observed Magnitude for Source ID: {}'.format(star_id))\n",
        "    # plt.legend()\n",
        "    # plt.grid(True)\n",
        "\n",
        "    # Subplot for normalized count\n",
        "    plt.subplot(1, 2, 2)\n",
        "\n",
        "    # Plot all data points\n",
        "    plt.plot(epochs_ms, normalized_counts, marker='o', linestyle='', color='green', alpha=0.5, label='Normalized Count')\n",
        "\n",
        "    # Plot data points with truth value == 1 in red\n",
        "    plt.plot([epoch for truth, epoch in zip(truth_value, epochs_ms) if truth == 1],\n",
        "             [normalized_count for truth, normalized_count in zip(truth_value, normalized_counts) if truth == 1],\n",
        "             marker='o', linestyle='', color='red', alpha=0.5, label='Occultation Obs')\n",
        "\n",
        "    # Plot mean and standard deviation lines\n",
        "    plt.axhline(y=0, color='black', linestyle='--', label='Mean')\n",
        "    plt.axhline(y=1, color='red', linestyle='--', label='+/- 1 Std Dev')\n",
        "    plt.axhline(y=-1, color='red', linestyle='--')\n",
        "    plt.axhline(y=2, color='green', linestyle='--', label='+/- 2 Std Dev')\n",
        "    plt.axhline(y=-2, color='silver', linestyle='--')\n",
        "    plt.axhline(y=3, color='lightgray', linestyle='--', label='+/- 3 Std Dev')\n",
        "    plt.axhline(y=-3, color='lightgray', linestyle='--')\n",
        "\n",
        "    plt.xlabel('Epoch (ms)')\n",
        "    plt.ylabel('Normalized Count')\n",
        "    plt.title('Normalized Count for Star ID: 625571989641269120')\n",
        "    plt.legend()\n",
        "    plt.grid(True)\n",
        "\n",
        "    # Adjust layout\n",
        "    plt.tight_layout()\n",
        "\n",
        "    # Show plot\n",
        "    plt.show()\n",
        "\n",
        "    # Print the attributes of the target stars\n",
        "    print(\"Attributes of stars with Source ID:\", star_id)\n",
        "    print(target_stars)\n"
      ]
    },
    {
      "cell_type": "code",
      "source": [
        "#plot_star_observation(final_bright_stars_nominal, [628457378735500032], start_epoch)\n"
      ],
      "metadata": {
        "id": "yI3bwEkYjJXH"
      },
      "execution_count": null,
      "outputs": []
    },
    {
      "cell_type": "code",
      "execution_count": null,
      "metadata": {
        "id": "q4Eu3ZGKOINf"
      },
      "outputs": [],
      "source": [
        "#plot_normalized_star_observation(final_bright_stars_nominal, [625421077375748992], start_epoch)\n"
      ]
    },
    {
      "cell_type": "code",
      "execution_count": null,
      "metadata": {
        "id": "d8EU9H7EOPWQ"
      },
      "outputs": [],
      "source": [
        "plot_counts_histogram(final_bright_stars, 628457378735500032)"
      ]
    },
    {
      "cell_type": "code",
      "source": [],
      "metadata": {
        "id": "glchaL6jjBz6"
      },
      "execution_count": null,
      "outputs": []
    },
    {
      "cell_type": "code",
      "source": [],
      "metadata": {
        "id": "TNKolf00WJKB"
      },
      "execution_count": null,
      "outputs": []
    },
    {
      "cell_type": "markdown",
      "source": [
        "Below this is just for presentation"
      ],
      "metadata": {
        "id": "L0YZYnBUbp_C"
      }
    },
    {
      "cell_type": "code",
      "source": [
        "def plot_star_observation_nonoise(final_bright_stars, star_id):\n",
        "    # Filter the final_bright_stars table based on the target_source_id\n",
        "    target_stars = final_bright_stars[final_bright_stars['Source ID'] == star_id]\n",
        "\n",
        "    # Extract epoch and visual magnitude data for the target source ID\n",
        "    epochs_target = target_stars['Epoch']\n",
        "    visual_magnitude = target_stars['V Magnitude']  # Assuming 'Visual Magnitude' is the variable name\n",
        "\n",
        "    # Convert epoch to milliseconds\n",
        "    epochs_ms = [(epoch - start_epoch).total_seconds() * 1000 for epoch in epochs_target]\n",
        "\n",
        "    # Calculate mean and standard deviation for visual magnitudes\n",
        "    mean_visual_mag = np.mean(visual_magnitude)\n",
        "    std_visual_mag = np.std(visual_magnitude)\n",
        "\n",
        "    # Plot visual magnitude vs time for the target source ID\n",
        "    plt.figure(figsize=(8, 6))\n",
        "\n",
        "    # Plot all data points\n",
        "    plt.plot(epochs_ms, visual_magnitude, marker='o', linestyle='', color='green', alpha=0.5, label='Visual Magnitude')\n",
        "\n",
        "    # Plot mean, standard deviation, and line of best fit\n",
        "    plt.axhline(y=mean_visual_mag, color='red', linestyle='--', label='Mean Visual Magnitude')\n",
        "    plt.axhline(y=mean_visual_mag + std_visual_mag, color='orange', linestyle='--', label='+1 Stdev')\n",
        "    plt.axhline(y=mean_visual_mag - std_visual_mag, color='orange', linestyle='--', label='-1 Stdev')\n",
        "    slope_visual, intercept_visual, _, _, _ = linregress(epochs_ms, visual_magnitude)\n",
        "\n",
        "    plt.xlabel('Epoch (ms)')\n",
        "    plt.ylabel('Visual Magnitude')\n",
        "    plt.title('Visual Magnitude vs Time for Star ID: {}'.format(star_id))\n",
        "    plt.legend()\n",
        "    plt.grid(True)\n",
        "\n",
        "    # Show plot\n",
        "    plt.show()\n",
        "\n",
        "    # Print the attributes of the target stars\n",
        "    print(\"Attributes of stars with Source ID:\", star_id)\n",
        "    print(target_stars)"
      ],
      "metadata": {
        "id": "EsfmomKYbrmY"
      },
      "execution_count": null,
      "outputs": []
    },
    {
      "cell_type": "code",
      "source": [
        "#plot_star_observation_nonoise(final_bright_stars, 628457378735500032)"
      ],
      "metadata": {
        "id": "L0nJKx6NbsLI"
      },
      "execution_count": null,
      "outputs": []
    },
    {
      "cell_type": "code",
      "source": [
        "def plot_counts_histogram_nonoise(final_bright_stars, star_id):\n",
        "    # Filter the final_bright_stars table based on the target_source_id\n",
        "    target_stars = final_bright_stars[final_bright_stars['Source ID'] == star_id]\n",
        "\n",
        "    # Extract counts data and truth values for the target source ID\n",
        "    counts_target = target_stars['count']\n",
        "    truth_value = target_stars['truth']\n",
        "    vmag_true = target_stars['V Magnitude']\n",
        "    print(\"vmag true:\", vmag_true)\n",
        "\n",
        "    mean_count = calculate_photons_detected(vmag_true, aperture_radius, filter_bandpass, efficiency, star_id)\n",
        "    mean_count = mean_count[0] * 0.005\n",
        "    print(\"mean count\", mean_count)\n",
        "    std_count = np.std(counts_target)\n",
        "\n",
        "    # Separate the counts for occultation and non-occultation\n",
        "    counts_occultation = counts_target[truth_value == 1]\n",
        "    counts_non_occultation = counts_target[truth_value == 0]\n",
        "    mean_counts = np.full(len(counts_target), mean_count)\n",
        "\n",
        "    # Plot histogram of photon count\n",
        "    plt.figure(figsize=(10, 6))\n",
        "\n",
        "    # Plot non-occultation counts\n",
        "    plt.hist(mean_counts, bins=30, color='blue', alpha=0.5, label='Photon Count (Non-Occultation)')\n",
        "\n",
        "    # Overlay occultation counts\n",
        "    #plt.hist(counts_occultation, bins=30, color='red', alpha=0.9, label='Photon Count (Occultation)')\n",
        "\n",
        "    # Plot mean and standard deviations\n",
        "    plt.axvline(mean_count, color='orange', linestyle='--', label='Photon Count of Gaia Baseline Entry')\n",
        "    plt.axvline(mean_count + std_count, color='green', linestyle='--', label='+1 Stdev')\n",
        "    plt.axvline(mean_count - std_count, color='green', linestyle='--', label='-1 Stdev')\n",
        "    plt.axvline(mean_count + 2 * std_count, color='purple', linestyle='--', label='+2 Stdev')\n",
        "    plt.axvline(mean_count - 2 * std_count, color='purple', linestyle='--', label='-2 Stdev')\n",
        "\n",
        "    plt.xlabel('Photon Count')\n",
        "    plt.ylabel('Frequency')\n",
        "    plt.title('Histogram of Photon Counts for Star ID: {}'.format(star_id))\n",
        "    plt.legend()\n",
        "    plt.grid(True)\n",
        "\n",
        "    # Show plot\n",
        "    plt.show()"
      ],
      "metadata": {
        "id": "3KJ2fSA_burR"
      },
      "execution_count": null,
      "outputs": []
    },
    {
      "cell_type": "code",
      "source": [
        "plot_counts_histogram_nonoise(final_bright_stars, 628457378735500032)"
      ],
      "metadata": {
        "id": "_Gn17uN4eGW9"
      },
      "execution_count": null,
      "outputs": []
    },
    {
      "cell_type": "markdown",
      "source": [],
      "metadata": {
        "id": "xy_jBxqDeRFY"
      }
    }
  ],
  "metadata": {
    "colab": {
      "toc_visible": true,
      "provenance": [],
      "include_colab_link": true
    },
    "kernelspec": {
      "display_name": "Python 3",
      "name": "python3"
    },
    "language_info": {
      "name": "python"
    }
  },
  "nbformat": 4,
  "nbformat_minor": 0
}